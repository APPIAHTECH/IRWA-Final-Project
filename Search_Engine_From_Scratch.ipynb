{
 "cells": [
  {
   "cell_type": "markdown",
   "metadata": {
    "id": "HCTal9hwggsX"
   },
   "source": [
    "# Search-Engine-from-Scratch"
   ]
  },
  {
   "cell_type": "markdown",
   "metadata": {
    "id": "FwqvbsOAuKYq"
   },
   "source": [
    "# NAME(s) and NIA(s) \n",
    "\n",
    "**Author :** Stephen Appiah.\n",
    "         Umar Muhammad.\n",
    "**NIA :** 206637.\n",
    "      208244.\n",
    "    "
   ]
  },
  {
   "cell_type": "code",
   "execution_count": 1,
   "metadata": {
    "colab": {
     "base_uri": "https://localhost:8080/"
    },
    "id": "CRMCPWJiapEm",
    "outputId": "05a6923c-e0f6-480c-8075-6e19a4be6e56"
   },
   "outputs": [],
   "source": [
    "import warnings\n",
    "warnings.filterwarnings('ignore')"
   ]
  },
  {
   "cell_type": "markdown",
   "metadata": {
    "id": "yVudfO1hzC4t"
   },
   "source": [
    "#### Load Python packages\n",
    "Let's first import all the packages that you will need during this assignment."
   ]
  },
  {
   "cell_type": "code",
   "execution_count": 3,
   "metadata": {
    "colab": {
     "base_uri": "https://localhost:8080/"
    },
    "id": "sEVugrgBzC4v",
    "outputId": "86f29004-4027-4438-8156-91a434baf2f5",
    "scrolled": true
   },
   "outputs": [
    {
     "name": "stderr",
     "output_type": "stream",
     "text": [
      "[nltk_data] Downloading package stopwords to\n",
      "[nltk_data]     C:\\Users\\work\\AppData\\Roaming\\nltk_data...\n",
      "[nltk_data]   Package stopwords is already up-to-date!\n",
      "[nltk_data] Downloading package punkt to\n",
      "[nltk_data]     C:\\Users\\work\\AppData\\Roaming\\nltk_data...\n",
      "[nltk_data]   Package punkt is already up-to-date!\n"
     ]
    },
    {
     "data": {
      "text/plain": [
       "True"
      ]
     },
     "execution_count": 3,
     "metadata": {},
     "output_type": "execute_result"
    }
   ],
   "source": [
    "# if you do not have 'nltk', the following command should work \"python -m pip install nltk\"\n",
    "import nltk\n",
    "nltk.download('stopwords')\n",
    "nltk.download('punkt')"
   ]
  },
  {
   "cell_type": "code",
   "execution_count": 4,
   "metadata": {
    "id": "F9wOnbXuzC47"
   },
   "outputs": [],
   "source": [
    "from collections import defaultdict\n",
    "from array import array\n",
    "from nltk.stem import PorterStemmer\n",
    "from nltk.corpus import stopwords\n",
    "import math\n",
    "import numpy as np\n",
    "import collections\n",
    "import time\n",
    "from numpy import linalg as la\n",
    "from nltk import word_tokenize"
   ]
  },
  {
   "cell_type": "markdown",
   "metadata": {
    "id": "2srOPhiRzC48"
   },
   "source": [
    "#### Load data into memory\n",
    "Import the 500 Wikipedia articles (one article per line). For each article we have the document id, document title and document body separated by \"|\" character."
   ]
  },
  {
   "cell_type": "code",
   "execution_count": 5,
   "metadata": {
    "id": "6m6KXtzUZOKH"
   },
   "outputs": [],
   "source": [
    "#Read JSON ata set\n",
    "def read_data(docs_path):\n",
    "  import json\n",
    "  # Opening JSON file\n",
    "  f = open(docs_path)\n",
    "  # returns JSON object as\n",
    "  # a dictionary\n",
    "  data = json.load(f)\n",
    "  f.close()\n",
    "  return data\n",
    "\n",
    "data = read_data('inputs/dataset_tweets_WHO.json')"
   ]
  },
  {
   "cell_type": "code",
   "execution_count": 6,
   "metadata": {
    "colab": {
     "base_uri": "https://localhost:8080/"
    },
    "id": "CoSgucFJkQvY",
    "outputId": "1e7f8e93-565b-4600-eb7e-1f6a2155bb18"
   },
   "outputs": [
    {
     "data": {
      "text/plain": [
       "{'created_at': 'Wed Oct 13 08:46:17 +0000 2021',\n",
       " 'id': 1448208458604584960,\n",
       " 'id_str': '1448208458604584960',\n",
       " 'full_text': '#COVID19 has shown how health emergencies and disasters affect entire communities – especially those with weak health systems, and vulnerable populations like migrants, indigenous peoples, and those living in fragile humanitarian conditions. https://t.co/jpUQpnu0V1',\n",
       " 'truncated': False,\n",
       " 'display_text_range': [0, 241],\n",
       " 'entities': {'hashtags': [{'text': 'COVID19', 'indices': [0, 8]}],\n",
       "  'symbols': [],\n",
       "  'user_mentions': [],\n",
       "  'urls': [],\n",
       "  'media': [{'id': 1448208218463875077,\n",
       "    'id_str': '1448208218463875077',\n",
       "    'indices': [242, 265],\n",
       "    'media_url': 'http://pbs.twimg.com/media/FBkRs6ZXMAUmafc.jpg',\n",
       "    'media_url_https': 'https://pbs.twimg.com/media/FBkRs6ZXMAUmafc.jpg',\n",
       "    'url': 'https://t.co/jpUQpnu0V1',\n",
       "    'display_url': 'pic.twitter.com/jpUQpnu0V1',\n",
       "    'expanded_url': 'https://twitter.com/WHO/status/1448208458604584960/photo/1',\n",
       "    'type': 'photo',\n",
       "    'sizes': {'thumb': {'w': 150, 'h': 150, 'resize': 'crop'},\n",
       "     'small': {'w': 680, 'h': 383, 'resize': 'fit'},\n",
       "     'medium': {'w': 1200, 'h': 675, 'resize': 'fit'},\n",
       "     'large': {'w': 2048, 'h': 1152, 'resize': 'fit'}}}]},\n",
       " 'extended_entities': {'media': [{'id': 1448208218463875077,\n",
       "    'id_str': '1448208218463875077',\n",
       "    'indices': [242, 265],\n",
       "    'media_url': 'http://pbs.twimg.com/media/FBkRs6ZXMAUmafc.jpg',\n",
       "    'media_url_https': 'https://pbs.twimg.com/media/FBkRs6ZXMAUmafc.jpg',\n",
       "    'url': 'https://t.co/jpUQpnu0V1',\n",
       "    'display_url': 'pic.twitter.com/jpUQpnu0V1',\n",
       "    'expanded_url': 'https://twitter.com/WHO/status/1448208458604584960/photo/1',\n",
       "    'type': 'photo',\n",
       "    'sizes': {'thumb': {'w': 150, 'h': 150, 'resize': 'crop'},\n",
       "     'small': {'w': 680, 'h': 383, 'resize': 'fit'},\n",
       "     'medium': {'w': 1200, 'h': 675, 'resize': 'fit'},\n",
       "     'large': {'w': 2048, 'h': 1152, 'resize': 'fit'}}}]},\n",
       " 'source': '<a href=\"https://mobile.twitter.com\" rel=\"nofollow\">Twitter Web App</a>',\n",
       " 'in_reply_to_status_id': 1448195167048118274,\n",
       " 'in_reply_to_status_id_str': '1448195167048118274',\n",
       " 'in_reply_to_user_id': 14499829,\n",
       " 'in_reply_to_user_id_str': '14499829',\n",
       " 'in_reply_to_screen_name': 'WHO',\n",
       " 'user': {'id': 14499829,\n",
       "  'id_str': '14499829',\n",
       "  'name': 'World Health Organization (WHO)',\n",
       "  'screen_name': 'WHO',\n",
       "  'location': 'Geneva, Switzerland',\n",
       "  'description': 'We are the #UnitedNations’ health agency - #HealthForAll.\\n▶️ Always check our latest tweets on #COVID19 for updated advice/information.',\n",
       "  'url': 'https://t.co/wVulKuROWG',\n",
       "  'entities': {'url': {'urls': [{'url': 'https://t.co/wVulKuROWG',\n",
       "      'expanded_url': 'http://www.who.int',\n",
       "      'display_url': 'who.int',\n",
       "      'indices': [0, 23]}]},\n",
       "   'description': {'urls': []}},\n",
       "  'protected': False,\n",
       "  'followers_count': 9963586,\n",
       "  'friends_count': 1743,\n",
       "  'listed_count': 34215,\n",
       "  'created_at': 'Wed Apr 23 19:56:27 +0000 2008',\n",
       "  'favourites_count': 11879,\n",
       "  'utc_offset': None,\n",
       "  'time_zone': None,\n",
       "  'geo_enabled': True,\n",
       "  'verified': True,\n",
       "  'statuses_count': 64983,\n",
       "  'lang': None,\n",
       "  'contributors_enabled': False,\n",
       "  'is_translator': False,\n",
       "  'is_translation_enabled': False,\n",
       "  'profile_background_color': 'D0ECF8',\n",
       "  'profile_background_image_url': 'http://abs.twimg.com/images/themes/theme1/bg.png',\n",
       "  'profile_background_image_url_https': 'https://abs.twimg.com/images/themes/theme1/bg.png',\n",
       "  'profile_background_tile': True,\n",
       "  'profile_image_url': 'http://pbs.twimg.com/profile_images/875476478988886016/_l61qZdR_normal.jpg',\n",
       "  'profile_image_url_https': 'https://pbs.twimg.com/profile_images/875476478988886016/_l61qZdR_normal.jpg',\n",
       "  'profile_banner_url': 'https://pbs.twimg.com/profile_banners/14499829/1610970935',\n",
       "  'profile_link_color': '0396DB',\n",
       "  'profile_sidebar_border_color': '8C8C8C',\n",
       "  'profile_sidebar_fill_color': 'D9D9D9',\n",
       "  'profile_text_color': '000000',\n",
       "  'profile_use_background_image': True,\n",
       "  'has_extended_profile': True,\n",
       "  'default_profile': False,\n",
       "  'default_profile_image': False,\n",
       "  'following': False,\n",
       "  'follow_request_sent': False,\n",
       "  'notifications': False,\n",
       "  'translator_type': 'regular',\n",
       "  'withheld_in_countries': []},\n",
       " 'geo': None,\n",
       " 'coordinates': None,\n",
       " 'place': None,\n",
       " 'contributors': None,\n",
       " 'is_quote_status': False,\n",
       " 'retweet_count': 33,\n",
       " 'favorite_count': 119,\n",
       " 'favorited': False,\n",
       " 'retweeted': False,\n",
       " 'possibly_sensitive': False,\n",
       " 'lang': 'en'}"
      ]
     },
     "execution_count": 6,
     "metadata": {},
     "output_type": "execute_result"
    }
   ],
   "source": [
    "#Data Display\n",
    "data.get('1')\n"
   ]
  },
  {
   "cell_type": "code",
   "execution_count": 7,
   "metadata": {
    "colab": {
     "base_uri": "https://localhost:8080/"
    },
    "id": "mii5yWGWzC5A",
    "outputId": "af4815fe-dd1e-43aa-ef01-f9f156ffc522"
   },
   "outputs": [
    {
     "name": "stdout",
     "output_type": "stream",
     "text": [
      "Total number of Tweets in the corpus: 2399\n"
     ]
    }
   ],
   "source": [
    "print(\"Total number of Tweets in the corpus: {}\".format(len(data)))"
   ]
  },
  {
   "cell_type": "markdown",
   "metadata": {
    "id": "94XWpWwUiTJF"
   },
   "source": [
    "# Building the Index\n"
   ]
  },
  {
   "cell_type": "markdown",
   "metadata": {
    "id": "pBQKbz2Ki2F_"
   },
   "source": [
    "Processing the data\n",
    "\n",
    "Define functions to clean the text (tokenization / bigram/ lowercase /remove punctuation /stemming)"
   ]
  },
  {
   "cell_type": "code",
   "execution_count": 8,
   "metadata": {
    "id": "7Wt3c3wFl6rE"
   },
   "outputs": [],
   "source": [
    "stemmer = PorterStemmer()\n",
    "stop_words = set(stopwords.words(\"english\"))\n",
    "\n",
    "def remove_stopwords(words):\n",
    "    return [w for w in words if w.lower() not in stop_words]\n",
    "\n",
    "def stem_each(words):\n",
    "    return [stemmer.stem(w) for w in words]\n",
    "\n",
    "def remove_white_space(text):\n",
    "    return ' '.join(text.split())"
   ]
  },
  {
   "cell_type": "code",
   "execution_count": 9,
   "metadata": {
    "id": "5eUBqpQeifVH"
   },
   "outputs": [],
   "source": [
    "def preprocess(text):\n",
    "  \"\"\"\n",
    "  Preprocess the article text (title + body) removing stop words, stemming,\n",
    "  transforming in lowercase and return the tokens of the text.\n",
    "\n",
    "  Argument:\n",
    "  line -- string (text) to be preprocessed\n",
    "\n",
    "  Returns:\n",
    "  line - a list of tokens corresponding to the input text after the preprocessing\n",
    "  \"\"\"\n",
    "  stemmer = PorterStemmer()\n",
    "  stop_words = set(stopwords.words(\"english\"))\n",
    "  text=  text.lower()\n",
    "  text = text.replace('#', '')\n",
    "  text=  text.split()\n",
    "  text= remove_stopwords(text)\n",
    "  text= stem_each(text)\n",
    "  return text"
   ]
  },
  {
   "cell_type": "code",
   "execution_count": 10,
   "metadata": {
    "colab": {
     "base_uri": "https://localhost:8080/"
    },
    "id": "LxLqWJMnkCxo",
    "outputId": "617aadcb-732a-4b17-8cd8-8f2b6cbe902c"
   },
   "outputs": [
    {
     "name": "stdout",
     "output_type": "stream",
     "text": [
      "full_text It's International Day for Disaster Risk Reduction\n",
      "\n",
      "#OpenWHO has launched a multi-tiered core curriculum to help equip you with the competencies needed to work within public health emergency response.\n",
      "\n",
      "Start learning today &amp; be #Ready4Response:\n",
      "👉 https://t.co/hBFFOF0xKL https://t.co/fgZY22RWuS\n",
      "\n",
      "['intern', 'day', 'disast', 'risk', 'reduct', 'openwho', 'launch', 'multi-ti', 'core', 'curriculum', 'help', 'equip', 'compet', 'need', 'work', 'within', 'public', 'health', 'emerg', 'response.', 'start', 'learn', 'today', '&amp;', 'ready4response:', '👉', 'https://t.co/hbffof0xkl', 'https://t.co/fgzy22rwu']\n"
     ]
    }
   ],
   "source": [
    "#Eample\n",
    "tweet = data.get('0')\n",
    "print('full_text', tweet.get('full_text'))\n",
    "print()\n",
    "#phrase = \"Smart-assistants like Apple’s Siri and Amazon’s Alexa recognize patterns in speech thanks to voice recognition, then infer meaning and provide a useful response.\"\n",
    "print(preprocess(tweet.get('full_text')))"
   ]
  },
  {
   "cell_type": "markdown",
   "metadata": {
    "id": "tz5RmIWYQ7pp"
   },
   "source": [
    "#### Inverted Index Construction\n",
    "\n",
    "So the first step in building a text search engine is assembling an inverted index. An inverted index is a data structure that maps tokens to the documents they appear in. In this context, we can consider a token to simply be a word, so an inverted index, at its most basic, is just something that takes in a word, and returns to us a list of the documents it appears in."
   ]
  },
  {
   "cell_type": "code",
   "execution_count": 11,
   "metadata": {
    "id": "NH_4bXYDQ7pt"
   },
   "outputs": [],
   "source": [
    "def inverted_index(data, num_documents):\n",
    "    \"\"\"\n",
    "    Implement the inverted index and compute tf, df and idf\n",
    "    \n",
    "    Argument:\n",
    "    data -- collection of tweets\n",
    "    num_documents -- total number of documents\n",
    "    \n",
    "    Returns:\n",
    "    index - the inverted index (implemented through a Python dictionary) containing terms as keys and the corresponding\n",
    "    list of document these keys appears in (and the positions) as values.\n",
    "    tf - normalized term frequency for each term in each document\n",
    "    df - number of documents each term appear in\n",
    "    idf - inverse document frequency of each term\n",
    "    \"\"\"\n",
    "    index = defaultdict(list)\n",
    "    tf = defaultdict(list)\n",
    "    df = defaultdict(int)\n",
    "    title_index = defaultdict(str)\n",
    "    idf = defaultdict(float)\n",
    "    \n",
    "    for i in range(len(data)):\n",
    "        tweet = data.get(f'{i}')\n",
    "        page_id = i\n",
    "        terms = preprocess(''.join(tweet.get('full_text'))) \n",
    "        title = tweet.get('full_text')\n",
    "        title_index[page_id]=title\n",
    "\n",
    "        ## As suggested in class, we are using a current_page_index ==> { ‘term1’: [current_doc, [list of positions]], ...,‘term_n’: [current_doc, [list of positions]]}\n",
    "        ## current_page_index ==> { ‘web’: [1, [0]], ‘retrieval’: [1, [1,4]], ‘information’: [1, [2]]}\n",
    "        current_page_index = {}\n",
    "        for position, term in enumerate(terms):\n",
    "            try:\n",
    "                current_page_index[term][page_id].append(position)\n",
    "            except:\n",
    "                current_page_index[term]=[page_id, array('I',[position])] #'I' indicates unsigned int (int in Python)\n",
    "            \n",
    "        # normalized the term frequencies\n",
    "        norm = 0\n",
    "        for term, posting in current_page_index.items():\n",
    "            norm += len(posting[1]) ** 2\n",
    "        norm = math.sqrt(norm)\n",
    "        \n",
    "        #calculate the tf(dividing the term frequency by the above computed norm) and df weights\n",
    "        for term, posting in current_page_index.items():\n",
    "            tf[term].append(np.round(len(posting[1])/norm,4))\n",
    "            df[term] = df[term] + 1 \n",
    "            \n",
    "        #merge the current page index with the main index\n",
    "        for term_page, posting_page in current_page_index.items():\n",
    "            index[term_page].append(posting_page)\n",
    "        \n",
    "        # Compute IDF\n",
    "        for term in df:\n",
    "            idf[term] = np.round(np.log(float(num_documents/df[term])), 4)\n",
    "            \n",
    "    return index, tf, df, idf, title_index"
   ]
  },
  {
   "cell_type": "code",
   "execution_count": 12,
   "metadata": {
    "id": "PqokwOvdQ7p0",
    "scrolled": true
   },
   "outputs": [],
   "source": [
    "num_documents = len(data)\n",
    "index, tf, df, idf, title_index = inverted_index(data, num_documents)"
   ]
  },
  {
   "cell_type": "code",
   "execution_count": 13,
   "metadata": {
    "colab": {
     "base_uri": "https://localhost:8080/"
    },
    "id": "-rjQFMC0Q7p1",
    "outputId": "9f8de1e7-2413-44f6-83c9-9ce7a43ae748",
    "scrolled": true
   },
   "outputs": [
    {
     "name": "stdout",
     "output_type": "stream",
     "text": [
      "First 5 Index results for the term 'covid19': \n",
      "[[1, array('I', [0])], [6, array('I', [8])], [8, array('I', [2])], [11, array('I', [7])], [13, array('I', [8])]]\n"
     ]
    }
   ],
   "source": [
    "#Eample\n",
    "print(\"First 5 Index results for the term 'covid19': \\n{}\".format(index['covid19'][:5]))"
   ]
  },
  {
   "cell_type": "markdown",
   "metadata": {
    "id": "OxKreVqrQ7p3"
   },
   "source": [
    "# Querying the Index\n"
   ]
  },
  {
   "cell_type": "markdown",
   "metadata": {
    "id": "LJAHeOG5Q7p-"
   },
   "source": [
    "#### Ranking\n",
    "\n",
    "When searching in a search engine, we are interested in obtain the results sorted by relevance or by some other criteria."
   ]
  },
  {
   "cell_type": "code",
   "execution_count": 14,
   "metadata": {
    "id": "ZXU-ioWqQ7p_"
   },
   "outputs": [],
   "source": [
    "def rank_documents(terms, docs, index, idf, tf, title_index):\n",
    "    \"\"\"\n",
    "    Perform the ranking of the results of a search based on the tf-idf weights\n",
    "    \n",
    "    Argument:\n",
    "    terms -- list of query terms\n",
    "    docs -- list of documents, to rank, matching the query\n",
    "    index -- inverted index data structure\n",
    "    idf -- inverted document frequencies\n",
    "    tf -- term frequencies\n",
    "    title_index -- mapping between page id and page title\n",
    "    \n",
    "    Returns:\n",
    "    Print the list of ranked documents\n",
    "    \"\"\"\n",
    "    \n",
    "    doc_vectors = defaultdict(lambda: [0] * len(terms))\n",
    "    query_vector = [0] * len(terms)\n",
    "    query_terms_count = collections.Counter(terms)\n",
    "    query_norm = la.norm(list(query_terms_count.values()))\n",
    "    for termIndex, term in enumerate(terms):\n",
    "        if term not in index: continue\n",
    "        query_vector[termIndex]= query_terms_count[term]/query_norm * idf[term]\n",
    "        for doc_index, (doc, postings) in enumerate(index[term]):\n",
    "            if doc in docs:\n",
    "                doc_vectors[doc][termIndex] = tf[term][doc_index] * idf[term]  # TODO: check if multiply for idf\n",
    "    \n",
    "    doc_scores=[[np.dot(curDocVec, query_vector), doc] for doc, curDocVec in doc_vectors.items() ]\n",
    "    doc_scores.sort(reverse=True)\n",
    "    result_docs = [x[1] for x in doc_scores]\n",
    "    if len(result_docs) == 0: \n",
    "        print(\"No results found, try again\")\n",
    "        query = input()\n",
    "        docs = search(query, index)\n",
    "    return result_docs"
   ]
  },
  {
   "cell_type": "markdown",
   "metadata": {
    "id": "4JqgnEUrQ7qC"
   },
   "source": [
    "#### Search\n",
    "\n",
    "Enter queries to retrieved the top 10 relevant links based on the cosine similarity score (ltc.ltn schema).\n",
    "\n",
    "**This search uses TF-IDF + cosine similarity**"
   ]
  },
  {
   "cell_type": "code",
   "execution_count": 15,
   "metadata": {
    "id": "-rGm4hQnQ7qE"
   },
   "outputs": [],
   "source": [
    "def search(query, index):\n",
    "    \"\"\"\n",
    "    output is the list of documents that contain any of the query terms. \n",
    "    So, we will get the list of documents for each query term, and take the union of them.\n",
    "    \"\"\"\n",
    "    query = preprocess(query)\n",
    "    docs = set()\n",
    "    for term in query:\n",
    "        try:                      \n",
    "            term_docs=[posting[0] for posting in index[term]]\n",
    "            docs |= set(term_docs)\n",
    "        except:\n",
    "            pass\n",
    "    docs = list(docs)\n",
    "    ranked_docs = rank_documents(query, docs, index, idf, tf, title_index)\n",
    "    return ranked_docs"
   ]
  },
  {
   "cell_type": "code",
   "execution_count": 16,
   "metadata": {
    "colab": {
     "base_uri": "https://localhost:8080/"
    },
    "id": "jr3e22kpQ7qP",
    "outputId": "22724f2b-013d-430f-8e6a-1e41584b11f7"
   },
   "outputs": [
    {
     "name": "stdout",
     "output_type": "stream",
     "text": [
      "Insert your query (i.e.: covid19):\n",
      "\n",
      "covid19\n",
      "\n",
      "======================\n",
      "Sample of 10 results out of 604 for the searched query:\n",
      "\n",
      "Tweet_id = 1820 | Title = When will the #COVID19 pandemic be over? https://t.co/bebc6ccur1 | Username: {'id': 14499829, 'id_str': '14499829', 'name': 'World Health Organization (WHO)', 'screen_name': 'WHO', 'location': 'Geneva, Switzerland', 'description': 'We are the #UnitedNations’ health agency - #HealthForAll.\\n▶️ Always check our latest tweets on #COVID19 for updated advice/information.', 'url': 'https://t.co/wVulKuROWG', 'entities': {'url': {'urls': [{'url': 'https://t.co/wVulKuROWG', 'expanded_url': 'http://www.who.int', 'display_url': 'who.int', 'indices': [0, 23]}]}, 'description': {'urls': []}}, 'protected': False, 'followers_count': 9963586, 'friends_count': 1743, 'listed_count': 34215, 'created_at': 'Wed Apr 23 19:56:27 +0000 2008', 'favourites_count': 11879, 'utc_offset': None, 'time_zone': None, 'geo_enabled': True, 'verified': True, 'statuses_count': 64983, 'lang': None, 'contributors_enabled': False, 'is_translator': False, 'is_translation_enabled': False, 'profile_background_color': 'D0ECF8', 'profile_background_image_url': 'http://abs.twimg.com/images/themes/theme1/bg.png', 'profile_background_image_url_https': 'https://abs.twimg.com/images/themes/theme1/bg.png', 'profile_background_tile': True, 'profile_image_url': 'http://pbs.twimg.com/profile_images/875476478988886016/_l61qZdR_normal.jpg', 'profile_image_url_https': 'https://pbs.twimg.com/profile_images/875476478988886016/_l61qZdR_normal.jpg', 'profile_banner_url': 'https://pbs.twimg.com/profile_banners/14499829/1610970935', 'profile_link_color': '0396DB', 'profile_sidebar_border_color': '8C8C8C', 'profile_sidebar_fill_color': 'D9D9D9', 'profile_text_color': '000000', 'profile_use_background_image': True, 'has_extended_profile': True, 'default_profile': False, 'default_profile_image': False, 'following': False, 'follow_request_sent': False, 'notifications': False, 'translator_type': 'regular', 'withheld_in_countries': []} | Date: Fri Jul 23 21:04:48 +0000 2021 | Hashtags: [{'text': 'COVID19', 'indices': [14, 22]}] | Likes: None | Retweets: 1243 | Url: None\n",
      "Tweet_id = 2386 | Title = Here is why you should get vaccinated even if you have had #COVID19 👇 | Username: {'id': 14499829, 'id_str': '14499829', 'name': 'World Health Organization (WHO)', 'screen_name': 'WHO', 'location': 'Geneva, Switzerland', 'description': 'We are the #UnitedNations’ health agency - #HealthForAll.\\n▶️ Always check our latest tweets on #COVID19 for updated advice/information.', 'url': 'https://t.co/wVulKuROWG', 'entities': {'url': {'urls': [{'url': 'https://t.co/wVulKuROWG', 'expanded_url': 'http://www.who.int', 'display_url': 'who.int', 'indices': [0, 23]}]}, 'description': {'urls': []}}, 'protected': False, 'followers_count': 9963586, 'friends_count': 1743, 'listed_count': 34215, 'created_at': 'Wed Apr 23 19:56:27 +0000 2008', 'favourites_count': 11879, 'utc_offset': None, 'time_zone': None, 'geo_enabled': True, 'verified': True, 'statuses_count': 64983, 'lang': None, 'contributors_enabled': False, 'is_translator': False, 'is_translation_enabled': False, 'profile_background_color': 'D0ECF8', 'profile_background_image_url': 'http://abs.twimg.com/images/themes/theme1/bg.png', 'profile_background_image_url_https': 'https://abs.twimg.com/images/themes/theme1/bg.png', 'profile_background_tile': True, 'profile_image_url': 'http://pbs.twimg.com/profile_images/875476478988886016/_l61qZdR_normal.jpg', 'profile_image_url_https': 'https://pbs.twimg.com/profile_images/875476478988886016/_l61qZdR_normal.jpg', 'profile_banner_url': 'https://pbs.twimg.com/profile_banners/14499829/1610970935', 'profile_link_color': '0396DB', 'profile_sidebar_border_color': '8C8C8C', 'profile_sidebar_fill_color': 'D9D9D9', 'profile_text_color': '000000', 'profile_use_background_image': True, 'has_extended_profile': True, 'default_profile': False, 'default_profile_image': False, 'following': False, 'follow_request_sent': False, 'notifications': False, 'translator_type': 'regular', 'withheld_in_countries': []} | Date: Fri Jun 25 13:27:47 +0000 2021 | Hashtags: [{'text': 'COVID19', 'indices': [59, 67]}] | Likes: None | Retweets: 221 | Url: None\n",
      "Tweet_id = 2383 | Title = Media briefing on #COVID19 with @DrTedros https://t.co/YiMdHDIfq0 | Username: {'id': 14499829, 'id_str': '14499829', 'name': 'World Health Organization (WHO)', 'screen_name': 'WHO', 'location': 'Geneva, Switzerland', 'description': 'We are the #UnitedNations’ health agency - #HealthForAll.\\n▶️ Always check our latest tweets on #COVID19 for updated advice/information.', 'url': 'https://t.co/wVulKuROWG', 'entities': {'url': {'urls': [{'url': 'https://t.co/wVulKuROWG', 'expanded_url': 'http://www.who.int', 'display_url': 'who.int', 'indices': [0, 23]}]}, 'description': {'urls': []}}, 'protected': False, 'followers_count': 9963586, 'friends_count': 1743, 'listed_count': 34215, 'created_at': 'Wed Apr 23 19:56:27 +0000 2008', 'favourites_count': 11879, 'utc_offset': None, 'time_zone': None, 'geo_enabled': True, 'verified': True, 'statuses_count': 64983, 'lang': None, 'contributors_enabled': False, 'is_translator': False, 'is_translation_enabled': False, 'profile_background_color': 'D0ECF8', 'profile_background_image_url': 'http://abs.twimg.com/images/themes/theme1/bg.png', 'profile_background_image_url_https': 'https://abs.twimg.com/images/themes/theme1/bg.png', 'profile_background_tile': True, 'profile_image_url': 'http://pbs.twimg.com/profile_images/875476478988886016/_l61qZdR_normal.jpg', 'profile_image_url_https': 'https://pbs.twimg.com/profile_images/875476478988886016/_l61qZdR_normal.jpg', 'profile_banner_url': 'https://pbs.twimg.com/profile_banners/14499829/1610970935', 'profile_link_color': '0396DB', 'profile_sidebar_border_color': '8C8C8C', 'profile_sidebar_fill_color': 'D9D9D9', 'profile_text_color': '000000', 'profile_use_background_image': True, 'has_extended_profile': True, 'default_profile': False, 'default_profile_image': False, 'following': False, 'follow_request_sent': False, 'notifications': False, 'translator_type': 'regular', 'withheld_in_countries': []} | Date: Fri Jun 25 15:29:25 +0000 2021 | Hashtags: [{'text': 'COVID19', 'indices': [18, 26]}] | Likes: None | Retweets: 196 | Url: None\n",
      "Tweet_id = 2355 | Title = What is the #COVID19 Delta Plus variant⁉️ https://t.co/OgvcHiAfEP | Username: {'id': 14499829, 'id_str': '14499829', 'name': 'World Health Organization (WHO)', 'screen_name': 'WHO', 'location': 'Geneva, Switzerland', 'description': 'We are the #UnitedNations’ health agency - #HealthForAll.\\n▶️ Always check our latest tweets on #COVID19 for updated advice/information.', 'url': 'https://t.co/wVulKuROWG', 'entities': {'url': {'urls': [{'url': 'https://t.co/wVulKuROWG', 'expanded_url': 'http://www.who.int', 'display_url': 'who.int', 'indices': [0, 23]}]}, 'description': {'urls': []}}, 'protected': False, 'followers_count': 9963586, 'friends_count': 1743, 'listed_count': 34215, 'created_at': 'Wed Apr 23 19:56:27 +0000 2008', 'favourites_count': 11879, 'utc_offset': None, 'time_zone': None, 'geo_enabled': True, 'verified': True, 'statuses_count': 64983, 'lang': None, 'contributors_enabled': False, 'is_translator': False, 'is_translation_enabled': False, 'profile_background_color': 'D0ECF8', 'profile_background_image_url': 'http://abs.twimg.com/images/themes/theme1/bg.png', 'profile_background_image_url_https': 'https://abs.twimg.com/images/themes/theme1/bg.png', 'profile_background_tile': True, 'profile_image_url': 'http://pbs.twimg.com/profile_images/875476478988886016/_l61qZdR_normal.jpg', 'profile_image_url_https': 'https://pbs.twimg.com/profile_images/875476478988886016/_l61qZdR_normal.jpg', 'profile_banner_url': 'https://pbs.twimg.com/profile_banners/14499829/1610970935', 'profile_link_color': '0396DB', 'profile_sidebar_border_color': '8C8C8C', 'profile_sidebar_fill_color': 'D9D9D9', 'profile_text_color': '000000', 'profile_use_background_image': True, 'has_extended_profile': True, 'default_profile': False, 'default_profile_image': False, 'following': False, 'follow_request_sent': False, 'notifications': False, 'translator_type': 'regular', 'withheld_in_countries': []} | Date: Sat Jun 26 21:29:18 +0000 2021 | Hashtags: [{'text': 'COVID19', 'indices': [12, 20]}] | Likes: None | Retweets: 467 | Url: None\n",
      "Tweet_id = 2214 | Title = Media briefing on #COVID19 with @DrTedros https://t.co/OBWl31s1It | Username: {'id': 14499829, 'id_str': '14499829', 'name': 'World Health Organization (WHO)', 'screen_name': 'WHO', 'location': 'Geneva, Switzerland', 'description': 'We are the #UnitedNations’ health agency - #HealthForAll.\\n▶️ Always check our latest tweets on #COVID19 for updated advice/information.', 'url': 'https://t.co/wVulKuROWG', 'entities': {'url': {'urls': [{'url': 'https://t.co/wVulKuROWG', 'expanded_url': 'http://www.who.int', 'display_url': 'who.int', 'indices': [0, 23]}]}, 'description': {'urls': []}}, 'protected': False, 'followers_count': 9963586, 'friends_count': 1743, 'listed_count': 34215, 'created_at': 'Wed Apr 23 19:56:27 +0000 2008', 'favourites_count': 11879, 'utc_offset': None, 'time_zone': None, 'geo_enabled': True, 'verified': True, 'statuses_count': 64983, 'lang': None, 'contributors_enabled': False, 'is_translator': False, 'is_translation_enabled': False, 'profile_background_color': 'D0ECF8', 'profile_background_image_url': 'http://abs.twimg.com/images/themes/theme1/bg.png', 'profile_background_image_url_https': 'https://abs.twimg.com/images/themes/theme1/bg.png', 'profile_background_tile': True, 'profile_image_url': 'http://pbs.twimg.com/profile_images/875476478988886016/_l61qZdR_normal.jpg', 'profile_image_url_https': 'https://pbs.twimg.com/profile_images/875476478988886016/_l61qZdR_normal.jpg', 'profile_banner_url': 'https://pbs.twimg.com/profile_banners/14499829/1610970935', 'profile_link_color': '0396DB', 'profile_sidebar_border_color': '8C8C8C', 'profile_sidebar_fill_color': 'D9D9D9', 'profile_text_color': '000000', 'profile_use_background_image': True, 'has_extended_profile': True, 'default_profile': False, 'default_profile_image': False, 'following': False, 'follow_request_sent': False, 'notifications': False, 'translator_type': 'regular', 'withheld_in_countries': []} | Date: Fri Jul 02 12:33:56 +0000 2021 | Hashtags: [{'text': 'COVID19', 'indices': [18, 26]}] | Likes: None | Retweets: 249 | Url: None\n",
      "Tweet_id = 2122 | Title = Media briefing on #COVID19 with @DrTedros https://t.co/EwqedVYrSs | Username: {'id': 14499829, 'id_str': '14499829', 'name': 'World Health Organization (WHO)', 'screen_name': 'WHO', 'location': 'Geneva, Switzerland', 'description': 'We are the #UnitedNations’ health agency - #HealthForAll.\\n▶️ Always check our latest tweets on #COVID19 for updated advice/information.', 'url': 'https://t.co/wVulKuROWG', 'entities': {'url': {'urls': [{'url': 'https://t.co/wVulKuROWG', 'expanded_url': 'http://www.who.int', 'display_url': 'who.int', 'indices': [0, 23]}]}, 'description': {'urls': []}}, 'protected': False, 'followers_count': 9963586, 'friends_count': 1743, 'listed_count': 34215, 'created_at': 'Wed Apr 23 19:56:27 +0000 2008', 'favourites_count': 11879, 'utc_offset': None, 'time_zone': None, 'geo_enabled': True, 'verified': True, 'statuses_count': 64983, 'lang': None, 'contributors_enabled': False, 'is_translator': False, 'is_translation_enabled': False, 'profile_background_color': 'D0ECF8', 'profile_background_image_url': 'http://abs.twimg.com/images/themes/theme1/bg.png', 'profile_background_image_url_https': 'https://abs.twimg.com/images/themes/theme1/bg.png', 'profile_background_tile': True, 'profile_image_url': 'http://pbs.twimg.com/profile_images/875476478988886016/_l61qZdR_normal.jpg', 'profile_image_url_https': 'https://pbs.twimg.com/profile_images/875476478988886016/_l61qZdR_normal.jpg', 'profile_banner_url': 'https://pbs.twimg.com/profile_banners/14499829/1610970935', 'profile_link_color': '0396DB', 'profile_sidebar_border_color': '8C8C8C', 'profile_sidebar_fill_color': 'D9D9D9', 'profile_text_color': '000000', 'profile_use_background_image': True, 'has_extended_profile': True, 'default_profile': False, 'default_profile_image': False, 'following': False, 'follow_request_sent': False, 'notifications': False, 'translator_type': 'regular', 'withheld_in_countries': []} | Date: Wed Jul 07 13:15:35 +0000 2021 | Hashtags: [{'text': 'COVID19', 'indices': [18, 26]}] | Likes: None | Retweets: 293 | Url: None\n",
      "Tweet_id = 2062 | Title = Media briefing on #COVID19 with @DrTedros https://t.co/LxogVfFtKY | Username: {'id': 14499829, 'id_str': '14499829', 'name': 'World Health Organization (WHO)', 'screen_name': 'WHO', 'location': 'Geneva, Switzerland', 'description': 'We are the #UnitedNations’ health agency - #HealthForAll.\\n▶️ Always check our latest tweets on #COVID19 for updated advice/information.', 'url': 'https://t.co/wVulKuROWG', 'entities': {'url': {'urls': [{'url': 'https://t.co/wVulKuROWG', 'expanded_url': 'http://www.who.int', 'display_url': 'who.int', 'indices': [0, 23]}]}, 'description': {'urls': []}}, 'protected': False, 'followers_count': 9963586, 'friends_count': 1743, 'listed_count': 34215, 'created_at': 'Wed Apr 23 19:56:27 +0000 2008', 'favourites_count': 11879, 'utc_offset': None, 'time_zone': None, 'geo_enabled': True, 'verified': True, 'statuses_count': 64983, 'lang': None, 'contributors_enabled': False, 'is_translator': False, 'is_translation_enabled': False, 'profile_background_color': 'D0ECF8', 'profile_background_image_url': 'http://abs.twimg.com/images/themes/theme1/bg.png', 'profile_background_image_url_https': 'https://abs.twimg.com/images/themes/theme1/bg.png', 'profile_background_tile': True, 'profile_image_url': 'http://pbs.twimg.com/profile_images/875476478988886016/_l61qZdR_normal.jpg', 'profile_image_url_https': 'https://pbs.twimg.com/profile_images/875476478988886016/_l61qZdR_normal.jpg', 'profile_banner_url': 'https://pbs.twimg.com/profile_banners/14499829/1610970935', 'profile_link_color': '0396DB', 'profile_sidebar_border_color': '8C8C8C', 'profile_sidebar_fill_color': 'D9D9D9', 'profile_text_color': '000000', 'profile_use_background_image': True, 'has_extended_profile': True, 'default_profile': False, 'default_profile_image': False, 'following': False, 'follow_request_sent': False, 'notifications': False, 'translator_type': 'regular', 'withheld_in_countries': []} | Date: Mon Jul 12 14:34:39 +0000 2021 | Hashtags: [{'text': 'COVID19', 'indices': [18, 26]}] | Likes: None | Retweets: 311 | Url: None\n",
      "Tweet_id = 1647 | Title = Media briefing on #COVID19 with @DrTedros https://t.co/y0w33doIYG | Username: {'id': 14499829, 'id_str': '14499829', 'name': 'World Health Organization (WHO)', 'screen_name': 'WHO', 'location': 'Geneva, Switzerland', 'description': 'We are the #UnitedNations’ health agency - #HealthForAll.\\n▶️ Always check our latest tweets on #COVID19 for updated advice/information.', 'url': 'https://t.co/wVulKuROWG', 'entities': {'url': {'urls': [{'url': 'https://t.co/wVulKuROWG', 'expanded_url': 'http://www.who.int', 'display_url': 'who.int', 'indices': [0, 23]}]}, 'description': {'urls': []}}, 'protected': False, 'followers_count': 9963586, 'friends_count': 1743, 'listed_count': 34215, 'created_at': 'Wed Apr 23 19:56:27 +0000 2008', 'favourites_count': 11879, 'utc_offset': None, 'time_zone': None, 'geo_enabled': True, 'verified': True, 'statuses_count': 64983, 'lang': None, 'contributors_enabled': False, 'is_translator': False, 'is_translation_enabled': False, 'profile_background_color': 'D0ECF8', 'profile_background_image_url': 'http://abs.twimg.com/images/themes/theme1/bg.png', 'profile_background_image_url_https': 'https://abs.twimg.com/images/themes/theme1/bg.png', 'profile_background_tile': True, 'profile_image_url': 'http://pbs.twimg.com/profile_images/875476478988886016/_l61qZdR_normal.jpg', 'profile_image_url_https': 'https://pbs.twimg.com/profile_images/875476478988886016/_l61qZdR_normal.jpg', 'profile_banner_url': 'https://pbs.twimg.com/profile_banners/14499829/1610970935', 'profile_link_color': '0396DB', 'profile_sidebar_border_color': '8C8C8C', 'profile_sidebar_fill_color': 'D9D9D9', 'profile_text_color': '000000', 'profile_use_background_image': True, 'has_extended_profile': True, 'default_profile': False, 'default_profile_image': False, 'following': False, 'follow_request_sent': False, 'notifications': False, 'translator_type': 'regular', 'withheld_in_countries': []} | Date: Fri Jul 30 14:14:04 +0000 2021 | Hashtags: [{'text': 'COVID19', 'indices': [18, 26]}] | Likes: None | Retweets: 284 | Url: None\n",
      "Tweet_id = 1519 | Title = Media briefing on #COVID19 with @DrTedros https://t.co/beAu9uWJ0j | Username: {'id': 14499829, 'id_str': '14499829', 'name': 'World Health Organization (WHO)', 'screen_name': 'WHO', 'location': 'Geneva, Switzerland', 'description': 'We are the #UnitedNations’ health agency - #HealthForAll.\\n▶️ Always check our latest tweets on #COVID19 for updated advice/information.', 'url': 'https://t.co/wVulKuROWG', 'entities': {'url': {'urls': [{'url': 'https://t.co/wVulKuROWG', 'expanded_url': 'http://www.who.int', 'display_url': 'who.int', 'indices': [0, 23]}]}, 'description': {'urls': []}}, 'protected': False, 'followers_count': 9963586, 'friends_count': 1743, 'listed_count': 34215, 'created_at': 'Wed Apr 23 19:56:27 +0000 2008', 'favourites_count': 11879, 'utc_offset': None, 'time_zone': None, 'geo_enabled': True, 'verified': True, 'statuses_count': 64983, 'lang': None, 'contributors_enabled': False, 'is_translator': False, 'is_translation_enabled': False, 'profile_background_color': 'D0ECF8', 'profile_background_image_url': 'http://abs.twimg.com/images/themes/theme1/bg.png', 'profile_background_image_url_https': 'https://abs.twimg.com/images/themes/theme1/bg.png', 'profile_background_tile': True, 'profile_image_url': 'http://pbs.twimg.com/profile_images/875476478988886016/_l61qZdR_normal.jpg', 'profile_image_url_https': 'https://pbs.twimg.com/profile_images/875476478988886016/_l61qZdR_normal.jpg', 'profile_banner_url': 'https://pbs.twimg.com/profile_banners/14499829/1610970935', 'profile_link_color': '0396DB', 'profile_sidebar_border_color': '8C8C8C', 'profile_sidebar_fill_color': 'D9D9D9', 'profile_text_color': '000000', 'profile_use_background_image': True, 'has_extended_profile': True, 'default_profile': False, 'default_profile_image': False, 'following': False, 'follow_request_sent': False, 'notifications': False, 'translator_type': 'regular', 'withheld_in_countries': []} | Date: Wed Aug 04 13:08:43 +0000 2021 | Hashtags: [{'text': 'COVID19', 'indices': [18, 26]}] | Likes: None | Retweets: 293 | Url: None\n",
      "Tweet_id = 1406 | Title = Media briefing on #COVID19 with @DrTedros https://t.co/fYCBz2V4xw | Username: {'id': 14499829, 'id_str': '14499829', 'name': 'World Health Organization (WHO)', 'screen_name': 'WHO', 'location': 'Geneva, Switzerland', 'description': 'We are the #UnitedNations’ health agency - #HealthForAll.\\n▶️ Always check our latest tweets on #COVID19 for updated advice/information.', 'url': 'https://t.co/wVulKuROWG', 'entities': {'url': {'urls': [{'url': 'https://t.co/wVulKuROWG', 'expanded_url': 'http://www.who.int', 'display_url': 'who.int', 'indices': [0, 23]}]}, 'description': {'urls': []}}, 'protected': False, 'followers_count': 9963586, 'friends_count': 1743, 'listed_count': 34215, 'created_at': 'Wed Apr 23 19:56:27 +0000 2008', 'favourites_count': 11879, 'utc_offset': None, 'time_zone': None, 'geo_enabled': True, 'verified': True, 'statuses_count': 64983, 'lang': None, 'contributors_enabled': False, 'is_translator': False, 'is_translation_enabled': False, 'profile_background_color': 'D0ECF8', 'profile_background_image_url': 'http://abs.twimg.com/images/themes/theme1/bg.png', 'profile_background_image_url_https': 'https://abs.twimg.com/images/themes/theme1/bg.png', 'profile_background_tile': True, 'profile_image_url': 'http://pbs.twimg.com/profile_images/875476478988886016/_l61qZdR_normal.jpg', 'profile_image_url_https': 'https://pbs.twimg.com/profile_images/875476478988886016/_l61qZdR_normal.jpg', 'profile_banner_url': 'https://pbs.twimg.com/profile_banners/14499829/1610970935', 'profile_link_color': '0396DB', 'profile_sidebar_border_color': '8C8C8C', 'profile_sidebar_fill_color': 'D9D9D9', 'profile_text_color': '000000', 'profile_use_background_image': True, 'has_extended_profile': True, 'default_profile': False, 'default_profile_image': False, 'following': False, 'follow_request_sent': False, 'notifications': False, 'translator_type': 'regular', 'withheld_in_countries': []} | Date: Wed Aug 11 13:11:01 +0000 2021 | Hashtags: [{'text': 'COVID19', 'indices': [18, 26]}] | Likes: None | Retweets: 248 | Url: None\n"
     ]
    }
   ],
   "source": [
    "print(\"Insert your query (i.e.: covid19):\\n\")\n",
    "query = input()\n",
    "docs = search(query.lower(), index)\n",
    "top = 10\n",
    "\n",
    "print(\"\\n======================\\nSample of {} results out of {} for the searched query:\\n\".format(top, len(docs)))\n",
    "for d_id in docs[:top]:\n",
    "  tweet = data.get(f'{d_id}')\n",
    "  if tweet:\n",
    "    user = tweet.get('user')\n",
    "    entities = tweet.get('entities')\n",
    "    hashtags = entities.get('hashtags')\n",
    "    title = title_index[d_id]\n",
    "    date = tweet.get('created_at')\n",
    "    like = tweet.get('like')\n",
    "    retweets = tweet.get('retweet_count')\n",
    "    url = tweet.get('url')\n",
    "    # if hashtags:\n",
    "    #   title = hashtags[0]['text']\n",
    "    print(\"Tweet_id = {} | Title = {} | Username: {} | Date: {} | Hashtags: {} | Likes: {} | Retweets: {} | Url: {}\".format(d_id, title, user, date, hashtags, like, retweets, url))"
   ]
  },
  {
   "cell_type": "markdown",
   "metadata": {
    "id": "7M2K4S9CbhUF"
   },
   "source": [
    "# **Ranking and Search Variant**"
   ]
  },
  {
   "cell_type": "markdown",
   "metadata": {
    "id": "TQJY-RVYbxpQ"
   },
   "source": [
    "#### Ranking\n",
    "\n",
    "When searching in a search engine, we are interested in obtain the results sorted by Retweets"
   ]
  },
  {
   "cell_type": "code",
   "execution_count": 18,
   "metadata": {
    "id": "xtXJuFGebxpR"
   },
   "outputs": [],
   "source": [
    "def rank_documents_by_retweets(query, docs):\n",
    "    \"\"\"\n",
    "    Perform the ranking of the results of a search based on the Retweets\n",
    "    \n",
    "    Argument:\n",
    "    query -- list of query terms\n",
    "    docs -- list of documents, to rank, matching the query\n",
    "    \n",
    "    Returns:\n",
    "    Print the list of ranked documents\n",
    "    \"\"\"\n",
    "    terms = preprocess(query)\n",
    "    new_data_set = []\n",
    "    for term in terms:\n",
    "      for index in range(len(docs)):\n",
    "        tweet = data.get(f'{index}')\n",
    "        full_text = tweet.get('full_text')\n",
    "        full_text = preprocess(full_text)\n",
    "        if term in full_text:\n",
    "          new_data_set.append(tweet)\n",
    "  \n",
    "\n",
    "    result_docs = sorted(new_data_set, key=lambda x: x.get('retweet_count'), reverse=True)\n",
    "\n",
    "    if len(result_docs) == 0: \n",
    "        print(\"No results found, try again\")\n",
    "        query = input()\n",
    "        docs = search(query, index)\n",
    "    return result_docs"
   ]
  },
  {
   "cell_type": "markdown",
   "metadata": {
    "id": "Xb_a8iLHeATB"
   },
   "source": [
    "Search\n",
    "\n",
    "Enter queries to retrieved the top 10 relevant links based on the cosine similarity score Retweets + cosine similarity\n",
    "\n",
    "**This search uses Retweets + cosine similarity**"
   ]
  },
  {
   "cell_type": "code",
   "execution_count": 19,
   "metadata": {
    "id": "eQAQPmHweATC"
   },
   "outputs": [],
   "source": [
    "def search_variant(query, index):\n",
    "    \"\"\"\n",
    "    output is the list of documents that contain any of the query terms. \n",
    "    So, we will get the list of documents for each query term, and take the union of them.\n",
    "    \"\"\"\n",
    "    ranked_docs = rank_documents_by_retweets(query, index)\n",
    "    return ranked_docs"
   ]
  },
  {
   "cell_type": "code",
   "execution_count": 20,
   "metadata": {
    "colab": {
     "base_uri": "https://localhost:8080/"
    },
    "id": "pkB4jrL9eATC",
    "outputId": "fb649f36-2b72-4575-99ce-cde79b15583c"
   },
   "outputs": [
    {
     "name": "stdout",
     "output_type": "stream",
     "text": [
      "Insert your query (i.e.: covid19):\n",
      "\n",
      "covid19\n"
     ]
    }
   ],
   "source": [
    "print(\"Insert your query (i.e.: covid19):\\n\")\n",
    "query = input()\n",
    "tweets = search_variant(query.lower(), data)\n",
    "top = 10"
   ]
  },
  {
   "cell_type": "code",
   "execution_count": 21,
   "metadata": {
    "colab": {
     "base_uri": "https://localhost:8080/"
    },
    "id": "4ce51Q1WgOCe",
    "outputId": "f844d965-962e-4cc1-b620-51887b58943c"
   },
   "outputs": [
    {
     "name": "stdout",
     "output_type": "stream",
     "text": [
      "\n",
      "======================\n",
      "Sample of 10 results out of 604 for the searched query:\n",
      "\n",
      "Title = RT @DrTedros: Inspirational news from #BTSARMY in #Indonesia 🇮🇩, who came together for @BTS_twt &amp; organized a #COVID19 vaccination drive fo…| Retweets: 20366\n",
      "Title = RT @WHO: The #COVID19 situation globally is very dangerous with high levels of transmission driven by 4️⃣ major factors:\n",
      "1️⃣ virus variants…| Retweets: 4219\n",
      "Title = The #COVID19 situation globally is very dangerous with high levels of transmission driven by 4️⃣ major factors:\n",
      "1️⃣ virus variants\n",
      "2️⃣ increased social mixing and mobility of people\n",
      "3️⃣ inappropriate use of public health &amp; social measures\n",
      "4️⃣ vaccine inequity \n",
      "- Dr @mvankerkhove https://t.co/BKBuTXHbBU| Retweets: 4219\n",
      "Title = A second dose of Pfizer or Moderna can be used after a first dose of AstraZeneca in some situations. #COVID19 https://t.co/dErbKOrny0| Retweets: 3151\n",
      "Title = RT @DrTedros: The time is indeed now to do it right because #COVID19 is not over until it’s over:\n",
      "#WearAMask\n",
      "#WashYourHands\n",
      "Keep a safe dis…| Retweets: 2601\n",
      "Title = RT @WHO: Today is #WorldMentalHealthDay!\n",
      "\n",
      "#COVID19 has had a major impact on people’s #mentalhealth. Health workers, students, people livin…| Retweets: 2343\n",
      "Title = Today is #WorldMentalHealthDay!\n",
      "\n",
      "#COVID19 has had a major impact on people’s #mentalhealth. Health workers, students, people living alone &amp; those with pre-existing conditions have been particularly affected.\n",
      "\n",
      "#LetsTalk today about how we can care for &amp; support each other! #AskWHO https://t.co/VRmNi26EKD| Retweets: 2343\n",
      "Title = “The idea that everyone is protected and it’s “kumbaya”, and everything goes back to normal - is a very dangerous assumption anywhere in the world. We’d ask governments to be really careful at this moment, not to lose the gains that we’ve made”-@DrMikeRyan #COVID19 https://t.co/CdGUojObmI| Retweets: 2106\n",
      "Title = @DrTedros \"So far, more than 4 billion #COVID19 vaccine doses have been administered globally. More than 80% have gone to high- and upper-middle income countries, even though they account for less than half of the world’s population\"-@DrTedros| Retweets: 1256\n",
      "Title = When will the #COVID19 pandemic be over? https://t.co/bebc6ccur1| Retweets: 1243\n"
     ]
    }
   ],
   "source": [
    "print(\"\\n======================\\nSample of {} results out of {} for the searched query:\\n\".format(top, len(tweets)))\n",
    "i = 0\n",
    "for tweet in tweets:\n",
    "  if i == top: break\n",
    "  title = tweet.get('full_text')\n",
    "  retweets = tweet.get('retweet_count')\n",
    "  i = i+1\n",
    "\n",
    "  print(\"Title = {}| Retweets: {}\".format( title, retweets))"
   ]
  },
  {
   "cell_type": "markdown",
   "metadata": {
    "id": "lLjnByUuZWRx"
   },
   "source": [
    "# Search using Word2Vec"
   ]
  },
  {
   "cell_type": "markdown",
   "metadata": {
    "id": "xUgooenqYwOr"
   },
   "source": [
    "The idea is to create a new word2vec representation of our dataset.\n",
    "When a query is made, we create a word2vec version of our query. Then cosine similarity between our query vector with all vectors of our dataset. Finally, we sort by the cosine similarity. Hence we get the most relevant document first."
   ]
  },
  {
   "cell_type": "markdown",
   "metadata": {
    "id": "ovI_60mcWJ1T"
   },
   "source": [
    "**Load Model**"
   ]
  },
  {
   "cell_type": "code",
   "execution_count": 32,
   "metadata": {
    "id": "bw0yipHeWJDr"
   },
   "outputs": [],
   "source": [
    "import gensim.downloader as api\n",
    "from gensim.models import Word2Vec\n"
   ]
  },
  {
   "cell_type": "markdown",
   "metadata": {
    "id": "mIpv5l0lZd8K"
   },
   "source": [
    "Load model"
   ]
  },
  {
   "cell_type": "code",
   "execution_count": 33,
   "metadata": {
    "id": "brTS2ub4VHWZ"
   },
   "outputs": [],
   "source": [
    "dataset = api.load(\"text8\")  # load dataset as iterable\n",
    "word2vec = Word2Vec(dataset)  # train w2v model"
   ]
  },
  {
   "cell_type": "markdown",
   "metadata": {
    "id": "A-4Kc8ZsZh36"
   },
   "source": [
    "Create the mean vector  and define the cosine similarity function"
   ]
  },
  {
   "cell_type": "code",
   "execution_count": 34,
   "metadata": {
    "id": "YRvRQuq7VqAK"
   },
   "outputs": [],
   "source": [
    "from sklearn.metrics.pairwise import cosine_similarity as cs\n",
    "\n",
    "def cosine_similarity(a, b):\n",
    "  cos_sim_scikit = cs([a], [b])\n",
    "  return cos_sim_scikit\n",
    "\n",
    "def has_representation(sentence):\n",
    "    '''\n",
    "        Check whether the sentence has vector representation.\n",
    "        Check if at least one word of the sentence exists in the language model.\n",
    "    '''\n",
    "    try:\n",
    "      words = word_tokenize(sentence)\n",
    "      return len([word for word in words if word in word2vec]) > 0\n",
    "    except e:\n",
    "      return 0\n",
    "\n",
    "\n",
    "# mean avg of word vectors\n",
    "def mean_words_vector(sentence):\n",
    "    '''\n",
    "        Compute the mean of words vector\n",
    "    '''\n",
    "    words = word_tokenize(sentence)\n",
    "    words = [word for word in words if has_representation(word)]\n",
    "    try:\n",
    "      if len(words) == 0:\n",
    "          words = ['unk']\n",
    "      else:\n",
    "        return np.mean(word2vec[words], axis=0)\n",
    "    except:\n",
    "      words = ['unk']\n",
    "\n",
    "    return words\n",
    "    "
   ]
  },
  {
   "cell_type": "markdown",
   "metadata": {
    "id": "y1nTtUd-YKd7"
   },
   "source": [
    "**Example Word2Vec**"
   ]
  },
  {
   "cell_type": "code",
   "execution_count": 35,
   "metadata": {
    "colab": {
     "base_uri": "https://localhost:8080/"
    },
    "id": "ioLM_pLAXPGc",
    "outputId": "5f2f9dc3-1407-4076-8f8e-a3521a6e2bf5"
   },
   "outputs": [
    {
     "ename": "NameError",
     "evalue": "name 'e' is not defined",
     "output_type": "error",
     "traceback": [
      "\u001b[1;31m---------------------------------------------------------------------------\u001b[0m",
      "\u001b[1;31mTypeError\u001b[0m                                 Traceback (most recent call last)",
      "\u001b[1;32m~\\AppData\\Local\\Temp/ipykernel_7060/851545778.py\u001b[0m in \u001b[0;36mhas_representation\u001b[1;34m(sentence)\u001b[0m\n\u001b[0;32m     13\u001b[0m       \u001b[0mwords\u001b[0m \u001b[1;33m=\u001b[0m \u001b[0mword_tokenize\u001b[0m\u001b[1;33m(\u001b[0m\u001b[0msentence\u001b[0m\u001b[1;33m)\u001b[0m\u001b[1;33m\u001b[0m\u001b[1;33m\u001b[0m\u001b[0m\n\u001b[1;32m---> 14\u001b[1;33m       \u001b[1;32mreturn\u001b[0m \u001b[0mlen\u001b[0m\u001b[1;33m(\u001b[0m\u001b[1;33m[\u001b[0m\u001b[0mword\u001b[0m \u001b[1;32mfor\u001b[0m \u001b[0mword\u001b[0m \u001b[1;32min\u001b[0m \u001b[0mwords\u001b[0m \u001b[1;32mif\u001b[0m \u001b[0mword\u001b[0m \u001b[1;32min\u001b[0m \u001b[0mword2vec\u001b[0m\u001b[1;33m]\u001b[0m\u001b[1;33m)\u001b[0m \u001b[1;33m>\u001b[0m \u001b[1;36m0\u001b[0m\u001b[1;33m\u001b[0m\u001b[1;33m\u001b[0m\u001b[0m\n\u001b[0m\u001b[0;32m     15\u001b[0m     \u001b[1;32mexcept\u001b[0m \u001b[0me\u001b[0m\u001b[1;33m:\u001b[0m\u001b[1;33m\u001b[0m\u001b[1;33m\u001b[0m\u001b[0m\n",
      "\u001b[1;32m~\\AppData\\Local\\Temp/ipykernel_7060/851545778.py\u001b[0m in \u001b[0;36m<listcomp>\u001b[1;34m(.0)\u001b[0m\n\u001b[0;32m     13\u001b[0m       \u001b[0mwords\u001b[0m \u001b[1;33m=\u001b[0m \u001b[0mword_tokenize\u001b[0m\u001b[1;33m(\u001b[0m\u001b[0msentence\u001b[0m\u001b[1;33m)\u001b[0m\u001b[1;33m\u001b[0m\u001b[1;33m\u001b[0m\u001b[0m\n\u001b[1;32m---> 14\u001b[1;33m       \u001b[1;32mreturn\u001b[0m \u001b[0mlen\u001b[0m\u001b[1;33m(\u001b[0m\u001b[1;33m[\u001b[0m\u001b[0mword\u001b[0m \u001b[1;32mfor\u001b[0m \u001b[0mword\u001b[0m \u001b[1;32min\u001b[0m \u001b[0mwords\u001b[0m \u001b[1;32mif\u001b[0m \u001b[0mword\u001b[0m \u001b[1;32min\u001b[0m \u001b[0mword2vec\u001b[0m\u001b[1;33m]\u001b[0m\u001b[1;33m)\u001b[0m \u001b[1;33m>\u001b[0m \u001b[1;36m0\u001b[0m\u001b[1;33m\u001b[0m\u001b[1;33m\u001b[0m\u001b[0m\n\u001b[0m\u001b[0;32m     15\u001b[0m     \u001b[1;32mexcept\u001b[0m \u001b[0me\u001b[0m\u001b[1;33m:\u001b[0m\u001b[1;33m\u001b[0m\u001b[1;33m\u001b[0m\u001b[0m\n",
      "\u001b[1;31mTypeError\u001b[0m: argument of type 'Word2Vec' is not iterable",
      "\nDuring handling of the above exception, another exception occurred:\n",
      "\u001b[1;31mNameError\u001b[0m                                 Traceback (most recent call last)",
      "\u001b[1;32m~\\AppData\\Local\\Temp/ipykernel_7060/3041650279.py\u001b[0m in \u001b[0;36m<module>\u001b[1;34m\u001b[0m\n\u001b[0;32m      1\u001b[0m \u001b[0mtweet\u001b[0m \u001b[1;33m=\u001b[0m \u001b[0mdata\u001b[0m\u001b[1;33m.\u001b[0m\u001b[0mget\u001b[0m\u001b[1;33m(\u001b[0m\u001b[1;34mf'0'\u001b[0m\u001b[1;33m)\u001b[0m\u001b[1;33m\u001b[0m\u001b[1;33m\u001b[0m\u001b[0m\n\u001b[0;32m      2\u001b[0m \u001b[0mfull_text\u001b[0m \u001b[1;33m=\u001b[0m \u001b[0mtweet\u001b[0m\u001b[1;33m.\u001b[0m\u001b[0mget\u001b[0m\u001b[1;33m(\u001b[0m\u001b[1;34m'full_text'\u001b[0m\u001b[1;33m)\u001b[0m\u001b[1;33m\u001b[0m\u001b[1;33m\u001b[0m\u001b[0m\n\u001b[1;32m----> 3\u001b[1;33m \u001b[0mfull_text_vec\u001b[0m \u001b[1;33m=\u001b[0m \u001b[0mmean_words_vector\u001b[0m\u001b[1;33m(\u001b[0m\u001b[0mfull_text\u001b[0m\u001b[1;33m)\u001b[0m\u001b[1;33m\u001b[0m\u001b[1;33m\u001b[0m\u001b[0m\n\u001b[0m\u001b[0;32m      4\u001b[0m \u001b[0mprint\u001b[0m\u001b[1;33m(\u001b[0m\u001b[1;34m'Tweet Title:'\u001b[0m\u001b[1;33m,\u001b[0m \u001b[0mfull_text\u001b[0m\u001b[1;33m)\u001b[0m\u001b[1;33m\u001b[0m\u001b[1;33m\u001b[0m\u001b[0m\n\u001b[0;32m      5\u001b[0m \u001b[0mprint\u001b[0m\u001b[1;33m(\u001b[0m\u001b[0mfull_text_vec\u001b[0m\u001b[1;33m)\u001b[0m\u001b[1;33m\u001b[0m\u001b[1;33m\u001b[0m\u001b[0m\n",
      "\u001b[1;32m~\\AppData\\Local\\Temp/ipykernel_7060/851545778.py\u001b[0m in \u001b[0;36mmean_words_vector\u001b[1;34m(sentence)\u001b[0m\n\u001b[0;32m     23\u001b[0m     '''\n\u001b[0;32m     24\u001b[0m     \u001b[0mwords\u001b[0m \u001b[1;33m=\u001b[0m \u001b[0mword_tokenize\u001b[0m\u001b[1;33m(\u001b[0m\u001b[0msentence\u001b[0m\u001b[1;33m)\u001b[0m\u001b[1;33m\u001b[0m\u001b[1;33m\u001b[0m\u001b[0m\n\u001b[1;32m---> 25\u001b[1;33m     \u001b[0mwords\u001b[0m \u001b[1;33m=\u001b[0m \u001b[1;33m[\u001b[0m\u001b[0mword\u001b[0m \u001b[1;32mfor\u001b[0m \u001b[0mword\u001b[0m \u001b[1;32min\u001b[0m \u001b[0mwords\u001b[0m \u001b[1;32mif\u001b[0m \u001b[0mhas_representation\u001b[0m\u001b[1;33m(\u001b[0m\u001b[0mword\u001b[0m\u001b[1;33m)\u001b[0m\u001b[1;33m]\u001b[0m\u001b[1;33m\u001b[0m\u001b[1;33m\u001b[0m\u001b[0m\n\u001b[0m\u001b[0;32m     26\u001b[0m     \u001b[1;32mtry\u001b[0m\u001b[1;33m:\u001b[0m\u001b[1;33m\u001b[0m\u001b[1;33m\u001b[0m\u001b[0m\n\u001b[0;32m     27\u001b[0m       \u001b[1;32mif\u001b[0m \u001b[0mlen\u001b[0m\u001b[1;33m(\u001b[0m\u001b[0mwords\u001b[0m\u001b[1;33m)\u001b[0m \u001b[1;33m==\u001b[0m \u001b[1;36m0\u001b[0m\u001b[1;33m:\u001b[0m\u001b[1;33m\u001b[0m\u001b[1;33m\u001b[0m\u001b[0m\n",
      "\u001b[1;32m~\\AppData\\Local\\Temp/ipykernel_7060/851545778.py\u001b[0m in \u001b[0;36m<listcomp>\u001b[1;34m(.0)\u001b[0m\n\u001b[0;32m     23\u001b[0m     '''\n\u001b[0;32m     24\u001b[0m     \u001b[0mwords\u001b[0m \u001b[1;33m=\u001b[0m \u001b[0mword_tokenize\u001b[0m\u001b[1;33m(\u001b[0m\u001b[0msentence\u001b[0m\u001b[1;33m)\u001b[0m\u001b[1;33m\u001b[0m\u001b[1;33m\u001b[0m\u001b[0m\n\u001b[1;32m---> 25\u001b[1;33m     \u001b[0mwords\u001b[0m \u001b[1;33m=\u001b[0m \u001b[1;33m[\u001b[0m\u001b[0mword\u001b[0m \u001b[1;32mfor\u001b[0m \u001b[0mword\u001b[0m \u001b[1;32min\u001b[0m \u001b[0mwords\u001b[0m \u001b[1;32mif\u001b[0m \u001b[0mhas_representation\u001b[0m\u001b[1;33m(\u001b[0m\u001b[0mword\u001b[0m\u001b[1;33m)\u001b[0m\u001b[1;33m]\u001b[0m\u001b[1;33m\u001b[0m\u001b[1;33m\u001b[0m\u001b[0m\n\u001b[0m\u001b[0;32m     26\u001b[0m     \u001b[1;32mtry\u001b[0m\u001b[1;33m:\u001b[0m\u001b[1;33m\u001b[0m\u001b[1;33m\u001b[0m\u001b[0m\n\u001b[0;32m     27\u001b[0m       \u001b[1;32mif\u001b[0m \u001b[0mlen\u001b[0m\u001b[1;33m(\u001b[0m\u001b[0mwords\u001b[0m\u001b[1;33m)\u001b[0m \u001b[1;33m==\u001b[0m \u001b[1;36m0\u001b[0m\u001b[1;33m:\u001b[0m\u001b[1;33m\u001b[0m\u001b[1;33m\u001b[0m\u001b[0m\n",
      "\u001b[1;32m~\\AppData\\Local\\Temp/ipykernel_7060/851545778.py\u001b[0m in \u001b[0;36mhas_representation\u001b[1;34m(sentence)\u001b[0m\n\u001b[0;32m     13\u001b[0m       \u001b[0mwords\u001b[0m \u001b[1;33m=\u001b[0m \u001b[0mword_tokenize\u001b[0m\u001b[1;33m(\u001b[0m\u001b[0msentence\u001b[0m\u001b[1;33m)\u001b[0m\u001b[1;33m\u001b[0m\u001b[1;33m\u001b[0m\u001b[0m\n\u001b[0;32m     14\u001b[0m       \u001b[1;32mreturn\u001b[0m \u001b[0mlen\u001b[0m\u001b[1;33m(\u001b[0m\u001b[1;33m[\u001b[0m\u001b[0mword\u001b[0m \u001b[1;32mfor\u001b[0m \u001b[0mword\u001b[0m \u001b[1;32min\u001b[0m \u001b[0mwords\u001b[0m \u001b[1;32mif\u001b[0m \u001b[0mword\u001b[0m \u001b[1;32min\u001b[0m \u001b[0mword2vec\u001b[0m\u001b[1;33m]\u001b[0m\u001b[1;33m)\u001b[0m \u001b[1;33m>\u001b[0m \u001b[1;36m0\u001b[0m\u001b[1;33m\u001b[0m\u001b[1;33m\u001b[0m\u001b[0m\n\u001b[1;32m---> 15\u001b[1;33m     \u001b[1;32mexcept\u001b[0m \u001b[0me\u001b[0m\u001b[1;33m:\u001b[0m\u001b[1;33m\u001b[0m\u001b[1;33m\u001b[0m\u001b[0m\n\u001b[0m\u001b[0;32m     16\u001b[0m       \u001b[1;32mreturn\u001b[0m \u001b[1;36m0\u001b[0m\u001b[1;33m\u001b[0m\u001b[1;33m\u001b[0m\u001b[0m\n\u001b[0;32m     17\u001b[0m \u001b[1;33m\u001b[0m\u001b[0m\n",
      "\u001b[1;31mNameError\u001b[0m: name 'e' is not defined"
     ]
    }
   ],
   "source": [
    "tweet = data.get(f'0')\n",
    "full_text = tweet.get('full_text')\n",
    "full_text_vec = mean_words_vector(full_text)\n",
    "print('Tweet Title:', full_text)\n",
    "print(full_text_vec)"
   ]
  },
  {
   "cell_type": "markdown",
   "metadata": {
    "id": "xrUyxZzPZwya"
   },
   "source": [
    "Convert our dataser of tweets into a data set representing each tweet in word2vec"
   ]
  },
  {
   "cell_type": "code",
   "execution_count": null,
   "metadata": {
    "id": "0BZ2UR54YY2F"
   },
   "outputs": [],
   "source": [
    "def data_vec_representation(data):\n",
    "  \"\"\"\n",
    "  Return a new data set, where each tweet as a word2vec representation.\n",
    "  We only store the full text representation.\n",
    "  \"\"\"\n",
    "  new_data_set = []\n",
    "  for index in range(len(data)):\n",
    "    tweet = data.get(f'{index}')\n",
    "    full_text = tweet.get('full_text')\n",
    "    query = preprocess(full_text)\n",
    "    full_text = ' '.join(query)\n",
    "    full_text_vec = mean_words_vector(full_text)\n",
    "    new_data_set.append((tweet, full_text_vec))\n",
    "  \n",
    "  return new_data_set"
   ]
  },
  {
   "cell_type": "markdown",
   "metadata": {
    "id": "jm2jYA_inCUy"
   },
   "source": [
    "Rank document by cosine similarity as param : tuple (value, cosine similarity value)"
   ]
  },
  {
   "cell_type": "code",
   "execution_count": null,
   "metadata": {
    "id": "GY-WB2rKbhYR"
   },
   "outputs": [],
   "source": [
    "def rank_documents_word2vec(data):\n",
    "  \"\"\"\n",
    "  Rank element by the most similar items first\n",
    "  \"\"\"\n",
    "  newlist = sorted(data, key=lambda tup: tup[1], reverse=True)\n",
    "  return newlist"
   ]
  },
  {
   "cell_type": "code",
   "execution_count": 29,
   "metadata": {
    "id": "HnQqSs7oYOdU"
   },
   "outputs": [],
   "source": [
    "def searchWord2Vec(query, data_2_vec):\n",
    "    \"\"\"\n",
    "    Search using word2vec + cosine similarity.\n",
    "    \"\"\"\n",
    "    data = []\n",
    "    query = preprocess(query)\n",
    "    term = ' '.join(query)\n",
    "    term_vec = mean_words_vector(term)\n",
    "\n",
    "    if 'unk' in term_vec:\n",
    "      print(\"Unknown term \", term)\n",
    "      return\n",
    "    \n",
    "    for item in data_2_vec:\n",
    "      tweet , tweet_vec = item\n",
    "      if 'unk' in tweet_vec:\n",
    "        continue\n",
    "\n",
    "      similarity = cosine_similarity(term_vec, tweet_vec)\n",
    "      res = (tweet, similarity)\n",
    "      data.append(res)\n",
    "\n",
    "    ranked_docs = rank_documents_word2vec(data)\n",
    "    return ranked_docs"
   ]
  },
  {
   "cell_type": "markdown",
   "metadata": {
    "id": "VDXqo12zoadR"
   },
   "source": [
    "Test code"
   ]
  },
  {
   "cell_type": "code",
   "execution_count": 28,
   "metadata": {
    "id": "g50q2-cbY7b-"
   },
   "outputs": [
    {
     "ename": "NameError",
     "evalue": "name 'data_vec_representation' is not defined",
     "output_type": "error",
     "traceback": [
      "\u001b[1;31m---------------------------------------------------------------------------\u001b[0m",
      "\u001b[1;31mNameError\u001b[0m                                 Traceback (most recent call last)",
      "\u001b[1;32m~\\AppData\\Local\\Temp/ipykernel_7060/2740991750.py\u001b[0m in \u001b[0;36m<module>\u001b[1;34m\u001b[0m\n\u001b[1;32m----> 1\u001b[1;33m \u001b[0mdata_set_word_2_vec\u001b[0m \u001b[1;33m=\u001b[0m \u001b[0mdata_vec_representation\u001b[0m\u001b[1;33m(\u001b[0m\u001b[0mdata\u001b[0m\u001b[1;33m)\u001b[0m\u001b[1;33m\u001b[0m\u001b[1;33m\u001b[0m\u001b[0m\n\u001b[0m",
      "\u001b[1;31mNameError\u001b[0m: name 'data_vec_representation' is not defined"
     ]
    }
   ],
   "source": [
    "data_set_word_2_vec = data_vec_representation(data)"
   ]
  },
  {
   "cell_type": "code",
   "execution_count": 27,
   "metadata": {
    "id": "3jvknz-9jjUY"
   },
   "outputs": [
    {
     "ename": "NameError",
     "evalue": "name 'data_set_word_2_vec' is not defined",
     "output_type": "error",
     "traceback": [
      "\u001b[1;31m---------------------------------------------------------------------------\u001b[0m",
      "\u001b[1;31mNameError\u001b[0m                                 Traceback (most recent call last)",
      "\u001b[1;32m~\\AppData\\Local\\Temp/ipykernel_7060/3648401135.py\u001b[0m in \u001b[0;36m<module>\u001b[1;34m\u001b[0m\n\u001b[1;32m----> 1\u001b[1;33m \u001b[0mtweet\u001b[0m \u001b[1;33m,\u001b[0m \u001b[0mtweet_vec\u001b[0m \u001b[1;33m=\u001b[0m \u001b[0mdata_set_word_2_vec\u001b[0m\u001b[1;33m[\u001b[0m\u001b[1;36m0\u001b[0m\u001b[1;33m]\u001b[0m\u001b[1;33m\u001b[0m\u001b[1;33m\u001b[0m\u001b[0m\n\u001b[0m\u001b[0;32m      2\u001b[0m \u001b[0mprint\u001b[0m\u001b[1;33m(\u001b[0m\u001b[0mtweet_vec\u001b[0m\u001b[1;33m)\u001b[0m\u001b[1;33m\u001b[0m\u001b[1;33m\u001b[0m\u001b[0m\n",
      "\u001b[1;31mNameError\u001b[0m: name 'data_set_word_2_vec' is not defined"
     ]
    }
   ],
   "source": [
    "tweet , tweet_vec = data_set_word_2_vec[0]\n",
    "print(tweet_vec)"
   ]
  },
  {
   "cell_type": "code",
   "execution_count": null,
   "metadata": {
    "id": "V0FIfsApYWX4"
   },
   "outputs": [],
   "source": [
    "print(\"Insert your query (i.e.: How many human died today):\\n\")\n",
    "query = input()\n",
    "documents = searchWord2Vec(query.lower(), data_set_word_2_vec)\n",
    "top = 20\n",
    "print(\"\\n======================\\nSample of {} results out of {} for the searched query:\\n\".format(top, len(documents)))\n",
    "i = 0\n",
    "for item in documents:\n",
    "  tweet , similarity = item\n",
    "  if i == top: break\n",
    "  title = tweet.get('full_text')\n",
    "  retweets = tweet.get('retweet_count')\n",
    "  i = i+1\n",
    "  print(\"Title = {}| Retweets: {} | Similarity {} \".format( title, retweets, similarity))\n",
    "  print(\"\\n\")"
   ]
  },
  {
   "cell_type": "markdown",
   "metadata": {
    "id": "nSSudeE1vkgp"
   },
   "source": [
    "\n",
    "**Return a top-20 list of documents for each of the 5 queries, using word2vec + cosine similarity.**"
   ]
  },
  {
   "cell_type": "code",
   "execution_count": null,
   "metadata": {
    "id": "lOJloOlfwFts"
   },
   "outputs": [],
   "source": [
    "def queryTest(query):\n",
    "  documents = searchWord2Vec(query, data_set_word_2_vec)\n",
    "  top = 20\n",
    "  print(\"\\n======================\\nSample of {} results out of {} for the searched query:\\n\".format(top, len(documents)))\n",
    "  i = 0\n",
    "  for item in documents:\n",
    "    tweet , similarity = item\n",
    "    if i == top: break\n",
    "    title = tweet.get('full_text')\n",
    "    retweets = tweet.get('retweet_count')\n",
    "    i = i+1\n",
    "    print(\"Title = {}| Retweets: {} | Similarity {} \".format( title, retweets, similarity))\n",
    "    print(\"\\n\")"
   ]
  },
  {
   "cell_type": "code",
   "execution_count": null,
   "metadata": {
    "colab": {
     "base_uri": "https://localhost:8080/"
    },
    "id": "Jm9nGNqPvzB8",
    "outputId": "e00ade36-a44b-4924-ca33-8c90aa8e28e8"
   },
   "outputs": [
    {
     "name": "stdout",
     "output_type": "stream",
     "text": [
      "\n",
      "======================\n",
      "Sample of 20 results out of 2384 for the searched query:\n",
      "\n",
      "Title = @DrTedros \"Urbanization, deforestation, #climatechange and intensified agricultural practices are all increasing the risks of zooneses spilling over into human populations\"-@DrTedros| Retweets: 30 | Similarity [[0.6684346]] \n",
      "\n",
      "\n",
      "Title = For all women, the 🆕 #CervicalCancer guidelines now recommend the HPV DNA 🧬 test as the primary method for cervical screening.\n",
      "This detects the high-risk strains of the human papillomavirus (HPV) that cause almost all cervical cancers.\n",
      " \n",
      "👉 https://t.co/hd1NNcbKP2 https://t.co/0fbqdewNHo| Retweets: 77 | Similarity [[0.63172054]] \n",
      "\n",
      "\n",
      "Title = It's #WorldHumanitarianDay\n",
      " \n",
      "The health argument for climate action is clear. The same unsustainable choices that destroy our planet are affecting our health. Safeguarding human health from #ClimateChange impacts 🌪️☀️🌊🔥  is more urgent than ever.\n",
      "\n",
      "#TheHumanRace https://t.co/3EpeK20gIN| Retweets: 969 | Similarity [[0.6245643]] \n",
      "\n",
      "\n",
      "Title = @Olympics @DrTedros \"The tragedy of this pandemic is that it could have been under control by now, if 💉 had been allocated equitably. The distortion in the manufacturing &amp; distribution of 💉 has exposed &amp; amplified the searing inequalities that have stained human history for aeons\"-@DrTedros| Retweets: 65 | Similarity [[0.58999085]] \n",
      "\n",
      "\n",
      "Title = RT @DrTedros: Humanity is failing miserably with vaccine injustice. Debating whether intellectual property rights should be waived in such…| Retweets: 202 | Similarity [[0.5847755]] \n",
      "\n",
      "\n",
      "Title = @DrTedros \"The commission was co-chaired by Aïchatou Mindaoudou, the former Minister of Foreign Affairs &amp; Social Development of 🇳🇪, &amp; Julienne Lusenge, an internationally recognized human rights activist and advocate for survivors of sexual violence in conflict, from #DRC\"-@DrTedros| Retweets: 24 | Similarity [[0.57700473]] \n",
      "\n",
      "\n",
      "Title = As #COVID19 continues to reveal inequities globally, the 🌐 commitment to health as a human right will determine how our economies &amp; societies will recover &amp; support everyone.\n",
      "\n",
      "How #PrimaryHealthCare accelerates #HealthforAll 👉https://t.co/PYSjgi3F5i https://t.co/IiDhYmndWb| Retweets: 241 | Similarity [[0.5734245]] \n",
      "\n",
      "\n",
      "Title = @DrTedros @UN \"We accept that we should have taken stronger measures to screen candidates and ensure more effective human resources processes\"-@DrTedros| Retweets: 16 | Similarity [[0.57100034]] \n",
      "\n",
      "\n",
      "Title = Today is #InternationalSafeAbortionDay. Access to safe #abortion protects the health and promotes the human rights of women and girls\n",
      "\n",
      "https://t.co/LBCUghiBh2 https://t.co/II1HRd6KjK| Retweets: 397 | Similarity [[0.5673014]] \n",
      "\n",
      "\n",
      "Title = The neurological disorders causing the biggest health burden are:\n",
      "🔹#dementia\n",
      "🔹epilepsy\n",
      "🔹meningitis\n",
      "🔹migraine\n",
      "🔹#stroke\n",
      "  \n",
      "Brain health conditions emerge throughout life &amp; are characterized by disruptions in normal 🧠growth and/or brain functioning.\n",
      "\n",
      "👉https://t.co/PyRHfsHKm0 https://t.co/IVmuMxLrRC| Retweets: 111 | Similarity [[0.52397925]] \n",
      "\n",
      "\n",
      "Title = The #VaccinEquity Dashboard from WHO, @UNDP, and @BlavatnikSchool shows that low- and lower-middle-income countries must have access to vaccines now to:\n",
      "👩‍⚕️Save lives\n",
      "💹Promote economic recovery\n",
      "👨‍👩‍👧‍👦Advance human development\n",
      "\n",
      "https://t.co/48frkTNNmC https://t.co/zAnwTQfX3f| Retweets: 52 | Similarity [[0.51486224]] \n",
      "\n",
      "\n",
      "Title = Two 🆕 reports provide the first global recommendations to help establish human genome 🧬 editing as a tool for public health, with an emphasis on safety, effectiveness and ethics. \n",
      "\n",
      "👉 https://t.co/w32QhMXSXi https://t.co/Bto9SF6NzW| Retweets: 128 | Similarity [[0.5109351]] \n",
      "\n",
      "\n",
      "Title = ✅A positive and respectful approach to sexuality &amp; sexual relationships \n",
      "✅The possibility of pleasurable &amp; safe sexual experiences\n",
      "✅Being free of sexual coercion, discrimination &amp; violence \n",
      "\n",
      "All are 🔑 to sexual health and well-being \n",
      "https://t.co/W4RjDBdwl7 https://t.co/M9KuIYBObM| Retweets: 73 | Similarity [[0.5102572]] \n",
      "\n",
      "\n",
      "Title = With ongoing biodiversity loss &amp; #ClimateChange, we need to act now and build healthy societies to\n",
      "✅ protect human health worldwide\n",
      "✅ prevent the risk of emerging infectious diseases https://t.co/7Ja3g0iA9u| Retweets: 79 | Similarity [[0.5037644]] \n",
      "\n",
      "\n",
      "Title = We all have sexual health needs, which change across our lifespan – not only during our reproductive years! \n",
      "Learn what WHO and @HRPResearch are doing to promote sexual health and wellbeing for all.\n",
      "\n",
      "https://t.co/W4RjDBdwl7 https://t.co/hBGKfSqVII| Retweets: 34 | Similarity [[0.50299823]] \n",
      "\n",
      "\n",
      "Title = Family planning and counseling should be:\n",
      "\n",
      "✅ respectful of the human rights of all individuals \n",
      "✅ free of stigma and discrimination\n",
      " \n",
      "https://t.co/4M0dxKnxUR https://t.co/Lz7zyxdHvO| Retweets: 50 | Similarity [[0.50109816]] \n",
      "\n",
      "\n",
      "Title = Unless we accelerate action, the environmental, social, and health toll of #AirPollution will continue, falling disproportionately on women and children, who bear primary responsibility for gathering fuel and preparing meals on polluting stoves.\n",
      "\n",
      "👉https://t.co/O2mOhG6cFS https://t.co/1kmCnqQXBd| Retweets: 61 | Similarity [[0.4971126]] \n",
      "\n",
      "\n",
      "Title = \"Including how we value and reward women in the health and care workforce.\n",
      "And how we guarantee that workplaces are free from discrimination, violence, sexual exploitation and abuse.\"-@DrTedros at #GenerationEquality \n",
      "https://t.co/3cq3pw0xWN| Retweets: 7 | Similarity [[0.49412203]] \n",
      "\n",
      "\n",
      "Title = For your sexual health, use a male or female #condom consistently and correctly to prevent unintended 🤰, #HIV and other sexually transmitted infections.\n",
      "\n",
      " https://t.co/6txzCHrEYq https://t.co/Yj9XOTUFOE| Retweets: 37 | Similarity [[0.4933242]] \n",
      "\n",
      "\n",
      "Title = Humanity is in a collective race against the #COVID19 virus and its variants. It’s critical to use every tool at our disposal:\n",
      "Donate doses.\n",
      "Share know-how.\n",
      "Share technology.\n",
      "Waive intellectual property.\n",
      "Produce more.\n",
      "👉 https://t.co/noy8l0xOxV #VaccinEquity| Retweets: 101 | Similarity [[0.48663667]] \n",
      "\n",
      "\n"
     ]
    }
   ],
   "source": [
    "queryTest(\"Human\")"
   ]
  },
  {
   "cell_type": "code",
   "execution_count": null,
   "metadata": {
    "colab": {
     "base_uri": "https://localhost:8080/"
    },
    "id": "GM4gd2mWwNeh",
    "outputId": "17226d79-7be7-43b7-f566-70abf20b2abc"
   },
   "outputs": [
    {
     "name": "stdout",
     "output_type": "stream",
     "text": [
      "\n",
      "======================\n",
      "Sample of 20 results out of 2384 for the searched query:\n",
      "\n",
      "Title = Today is #WorldMosquitoDay 🦟!\n",
      "\n",
      "1 child 🧒 dies every 2 minutes ⏰ from mosquito-borne malaria.\n",
      "\n",
      "Sleeping 💤 under insecticide-treated nets is one of the most effective ways to prevent #malaria. https://t.co/kC3uNHhuZG| Retweets: 495 | Similarity [[0.58923846]] \n",
      "\n",
      "\n",
      "Title = Today is #InternationalSafeAbortionDay. Access to safe #abortion protects the health and promotes the human rights of women and girls\n",
      "\n",
      "https://t.co/LBCUghiBh2 https://t.co/II1HRd6KjK| Retweets: 397 | Similarity [[0.5583078]] \n",
      "\n",
      "\n",
      "Title = Today is International Day of Older Persons and a reminder that people of all ages play a valuable role in our society.\n",
      " \n",
      "Stand up against ageism and help us create #AWorld4AllAges \n",
      "\n",
      "👉 https://t.co/citXXbrRLE https://t.co/x5i8UhU7Bl| Retweets: 76 | Similarity [[0.5554859]] \n",
      "\n",
      "\n",
      "Title = @DrTedros @UN \"We accept that we should have taken stronger measures to screen candidates and ensure more effective human resources processes\"-@DrTedros| Retweets: 16 | Similarity [[0.5429075]] \n",
      "\n",
      "\n",
      "Title = Today is #WorldBrainDay\n",
      "\n",
      "Did You Know?\n",
      "Taking action to look after your physical 🏃‍♀️ health is good for your brain 🧠 too!\n",
      "\n",
      "👉 https://t.co/DRGeYwPY6W https://t.co/Y6RNQhz4E6| Retweets: 54 | Similarity [[0.5393922]] \n",
      "\n",
      "\n",
      "Title = For all women, the 🆕 #CervicalCancer guidelines now recommend the HPV DNA 🧬 test as the primary method for cervical screening.\n",
      "This detects the high-risk strains of the human papillomavirus (HPV) that cause almost all cervical cancers.\n",
      " \n",
      "👉 https://t.co/hd1NNcbKP2 https://t.co/0fbqdewNHo| Retweets: 77 | Similarity [[0.53272665]] \n",
      "\n",
      "\n",
      "Title = Congratulations #China🇨🇳 for being certified \n",
      "#malaria-free. 👏👏\n",
      " \n",
      "This remarkable achievement comes after a 70 years-long fight against this disease. \n",
      "\n",
      "The world is now a step closer to #EndMalaria \n",
      "👉 https://t.co/GfrX7ptCVG https://t.co/IN6PnQBKXA| Retweets: 242 | Similarity [[0.5313698]] \n",
      "\n",
      "\n",
      "Title = @DrTedros @Chikwe_I @schwartlanderb @erna_solberg @NAkufoAddo @GlobalGoalsUN @ACTAccelerator \"Your legacy for global health will be so much more than your name on a plaque on a wall in Berlin. It will be etched in the lives of people all over the world for years to come, who will enjoy healthier and safer lives because of you\"-@DrTedros https://t.co/CWKiDTi77z| Retweets: 23 | Similarity [[0.53051823]] \n",
      "\n",
      "\n",
      "Title = RT @UNGeneva: Suicide is a global public health issue that affects all ages, sexes &amp; regions of the world.\n",
      "\n",
      "More from @WHO on today’s World…| Retweets: 400 | Similarity [[0.52748185]] \n",
      "\n",
      "\n",
      "Title = It's #WorldHumanitarianDay\n",
      " \n",
      "The health argument for climate action is clear. The same unsustainable choices that destroy our planet are affecting our health. Safeguarding human health from #ClimateChange impacts 🌪️☀️🌊🔥  is more urgent than ever.\n",
      "\n",
      "#TheHumanRace https://t.co/3EpeK20gIN| Retweets: 969 | Similarity [[0.5238452]] \n",
      "\n",
      "\n",
      "Title = \"Today, we’re proud to launch the updated WHO Global Air Quality Guidelines, which provide clear evidence of the damage air pollution inflicts on human health\"-@DrTedros #AirPollution| Retweets: 33 | Similarity [[0.5232091]] \n",
      "\n",
      "\n",
      "Title = Social isolation and loneliness among older people are harmful. They:\n",
      "🔶 Shorten older people's lives\n",
      "🔶 Damage their physical &amp; #MentalHealth\n",
      "🔶 Reduce their quality of life\n",
      "\n",
      "On #InternationalDayofFriendship, reach out to those who might be lonely.\n",
      "\n",
      "👉 https://t.co/ZtQCCXSVLV https://t.co/Ru30iC6WhX| Retweets: 72 | Similarity [[0.5208261]] \n",
      "\n",
      "\n",
      "Title = @DrTedros @mohgovgh @MOH_Kenya @health_malawi @PATHtweets @gatesfoundation @gavi @GlobalFund @UNITAID \"#Malaria has been with us for millennia, and the dream of a malaria vaccine has been a long-held but unattainable dream. \n",
      "\n",
      "Today, the RTS,S malaria vaccine – more than 30 years in the making – changes the course of public health history\"-@DrTedros #EndMalaria| Retweets: 100 | Similarity [[0.5205362]] \n",
      "\n",
      "\n",
      "Title = @DrTedros @Chikwe_I @schwartlanderb @erna_solberg @NAkufoAddo @GlobalGoalsUN @ACTAccelerator \"Which brings us to today. We have arrived at this moment in no small part because of one woman who says what she means, and means what she says\"-@DrTedros https://t.co/GO5lUAdcsE| Retweets: 17 | Similarity [[0.5196973]] \n",
      "\n",
      "\n",
      "Title = It's International Day of Older Persons.\n",
      " \n",
      "DYK: Among older people, ageism is associated with increased social isolation and loneliness, greater financial insecurity, decreased quality of life and premature death.\n",
      " \n",
      "#AWorld4AllAges https://t.co/nThXODKD6L| Retweets: 71 | Similarity [[0.51918715]] \n",
      "\n",
      "\n",
      "Title = @DrTedros @G20 @ACTAccelerator \"We know that violence affected far too many children before the #COVID19 pandemic. It is widespread and often hidden from public view in homes, schools, communities and online\"-@DrTedros \n",
      "\n",
      "https://t.co/A7vGEgugls| Retweets: 20 | Similarity [[0.51626605]] \n",
      "\n",
      "\n",
      "Title = Today is #WorldSepsisDay\n",
      "\n",
      "Q: What is #sepsis?\n",
      "A: Sepsis is a life-threatening medical emergency. It occurs when a person has an infection, and the body’s response causes injury to its own tissues and organs. \n",
      "Sepsis affects millions of patients 🌍\n",
      "\n",
      "https://t.co/ejYtk5W1Nn https://t.co/oVpPRz1lsl| Retweets: 1022 | Similarity [[0.51562953]] \n",
      "\n",
      "\n",
      "Title = The aerosols from e-cigarettes contain toxic substances that can cause\n",
      "\n",
      "🚨 cancer\n",
      "🫀 cardiovascular diseases\n",
      "🫁 lung disorders\n",
      "🧠 damage to children’s brain development\n",
      "\n",
      "#CommitToQuit e-cigarettes now for a healthier life!\n",
      "\n",
      "Here's how 👉https://t.co/7OReiIXXpd https://t.co/MvwAZqB8oB| Retweets: 715 | Similarity [[0.5113165]] \n",
      "\n",
      "\n",
      "Title = @DrTedros @g20org @ACTAccelerator \"We need other manufacturers to follow this example.\n",
      "\n",
      "Thousands of people are still dying every day and that deserves urgent action.\n",
      "\n",
      "I will discuss the worsening situation on Wednesday at the International Health Regulations emergency committee meeting\"-@DrTedros #VaccinEquity| Retweets: 34 | Similarity [[0.5076409]] \n",
      "\n",
      "\n",
      "Title = Unless we accelerate action, the environmental, social, and health toll of #AirPollution will continue, falling disproportionately on women and children, who bear primary responsibility for gathering fuel and preparing meals on polluting stoves.\n",
      "\n",
      "👉https://t.co/O2mOhG6cFS https://t.co/1kmCnqQXBd| Retweets: 61 | Similarity [[0.49592248]] \n",
      "\n",
      "\n"
     ]
    }
   ],
   "source": [
    "queryTest(\"How many human died today\")"
   ]
  },
  {
   "cell_type": "code",
   "execution_count": null,
   "metadata": {
    "colab": {
     "base_uri": "https://localhost:8080/"
    },
    "id": "UEmMO2g3wNrH",
    "outputId": "e9ffa6aa-198b-46dc-e9bc-450435b9bab1"
   },
   "outputs": [
    {
     "name": "stdout",
     "output_type": "stream",
     "text": [
      "\n",
      "======================\n",
      "Sample of 20 results out of 2384 for the searched query:\n",
      "\n",
      "Title = Oral diseases - incl. dental caries, gum disease and oral cancer - affect an estimated 3.5 billion people globally. \n",
      "They affect health, well-being and quality of life, especially where resources for prevention, diagnosis and treatment are limited. \n",
      "\n",
      "More: https://t.co/DagJPV2jdi https://t.co/2q7XEtHhHf| Retweets: 187 | Similarity [[0.8218045]] \n",
      "\n",
      "\n",
      "Title = #ClimateCrisis harms our health!\n",
      "#ClimateCrisis harms our health!\n",
      "#ClimateCrisis harms our health!\n",
      "\n",
      "Limiting global warming to 1.5°C isn't only the right thing to do but also a shared responsibility for health.\n",
      "\n",
      "🆕 WHO #COP26 Special Report explains why 👉https://t.co/WXMdMgPSWv https://t.co/r8NFs1oI37| Retweets: 481 | Similarity [[0.8112449]] \n",
      "\n",
      "\n",
      "Title = It's #WorldHumanitarianDay\n",
      " \n",
      "The health argument for climate action is clear. The same unsustainable choices that destroy our planet are affecting our health. Safeguarding human health from #ClimateChange impacts 🌪️☀️🌊🔥  is more urgent than ever.\n",
      "\n",
      "#TheHumanRace https://t.co/3EpeK20gIN| Retweets: 969 | Similarity [[0.7983905]] \n",
      "\n",
      "\n",
      "Title = Unless we accelerate action, the environmental, social, and health toll of #AirPollution will continue, falling disproportionately on women and children, who bear primary responsibility for gathering fuel and preparing meals on polluting stoves.\n",
      "\n",
      "👉https://t.co/O2mOhG6cFS https://t.co/1kmCnqQXBd| Retweets: 61 | Similarity [[0.786781]] \n",
      "\n",
      "\n",
      "Title = The neurological disorders causing the biggest health burden are:\n",
      "🔹#dementia\n",
      "🔹epilepsy\n",
      "🔹meningitis\n",
      "🔹migraine\n",
      "🔹#stroke\n",
      "  \n",
      "Brain health conditions emerge throughout life &amp; are characterized by disruptions in normal 🧠growth and/or brain functioning.\n",
      "\n",
      "👉https://t.co/PyRHfsHKm0 https://t.co/IVmuMxLrRC| Retweets: 111 | Similarity [[0.78559345]] \n",
      "\n",
      "\n",
      "Title = RT @DrTedros: #Qatar’s health workforce has been mobilized to provide health care in the compound, including immunization, mental health su…| Retweets: 53 | Similarity [[0.782955]] \n",
      "\n",
      "\n",
      "Title = Close to 1️⃣ billion people have a #mentalhealth disorder. Despite the magnitude of mental ill health, relatively few people around the 🌍 have access to quality mental health services.\n",
      " \n",
      "Hear from Helen, 🇮🇪, speaking the truth about why access to mental health care is essential. https://t.co/D7zLml2b2D| Retweets: 85 | Similarity [[0.7827297]] \n",
      "\n",
      "\n",
      "Title = We all have sexual health needs, which change across our lifespan – not only during our reproductive years! \n",
      "Learn what WHO and @HRPResearch are doing to promote sexual health and wellbeing for all.\n",
      "\n",
      "https://t.co/W4RjDBdwl7 https://t.co/hBGKfSqVII| Retweets: 34 | Similarity [[0.7771599]] \n",
      "\n",
      "\n",
      "Title = @DrTedros @WHOEMRO @WHOAfghanistan @UN_News_Centre @UNNewsArabic WHO particularly emphasizes the need for women to maintain access to education, health care, and to the health workforce. With fewer health facilities operational and less female health workers reporting to work, female patients are hesitant to seek care. \n",
      "https://t.co/UeE7W127sX https://t.co/Naj2e13pJM| Retweets: 26 | Similarity [[0.7740763]] \n",
      "\n",
      "\n",
      "Title = The human papillomavirus (HPV) causes more than 9 in 10 cervical cancers.\n",
      "\n",
      "With appropriate health sector support, HPV self-sampling can help improve screening rates since it is:  \n",
      "✅Easy   \n",
      "✅Convenient   \n",
      "✅Private   \n",
      "✅Less painful\n",
      "✅Cheap\n",
      "\n",
      "#SelfCare\n",
      "\n",
      "https://t.co/2vfxqa9FMB| Retweets: 53 | Similarity [[0.7705078]] \n",
      "\n",
      "\n",
      "Title = The #COVID19 pandemic has highlighted the need for innovative health technologies that can help countries improve health outcomes by providing shortcuts to solutions despite lack of infrastructure and resources.\n",
      "\n",
      "▶️ https://t.co/SwVaGP6Hr5| Retweets: 23 | Similarity [[0.7699941]] \n",
      "\n",
      "\n",
      "Title = @DrTedros \"Urbanization, deforestation, #climatechange and intensified agricultural practices are all increasing the risks of zooneses spilling over into human populations\"-@DrTedros| Retweets: 30 | Similarity [[0.76993614]] \n",
      "\n",
      "\n",
      "Title = The serious gaps in #mentalhealth care are a result of chronic under-investment. This #WorldMentalHealthDay we call on more investment for mental health care for all!\n",
      " \n",
      "Sebastian, 🇦🇷, says access to mental health care has been essential for him to cope with the #COVID19 pandemic. https://t.co/DxhVPSdaVB| Retweets: 54 | Similarity [[0.7691913]] \n",
      "\n",
      "\n",
      "Title = #Uzbekistan 🇺🇿‘s state health insurance fund covers #PrimaryHealthCare services so people can access vital health care, without falling into poverty.\n",
      "\n",
      "👉https://t.co/PYSjgi3F5i #WHOImpact #UHCPartnership https://t.co/5OGgrWYkvH| Retweets: 28 | Similarity [[0.76826006]] \n",
      "\n",
      "\n",
      "Title = @DrTedros \"More than 100 patients are already receiving treatment at home &amp; in 🇨🇩 health centres. WHO has provided medical supplies &amp; plans to deploy more experts &amp; resources. #Meningitis is a deadly &amp; debilitating disease, with serious health, economic &amp; social consequences\"-@DrTedros| Retweets: 23 | Similarity [[0.7667331]] \n",
      "\n",
      "\n",
      "Title = For your sexual health, use a male or female #condom consistently and correctly to prevent unintended 🤰, #HIV and other sexually transmitted infections.\n",
      "\n",
      " https://t.co/6txzCHrEYq https://t.co/Yj9XOTUFOE| Retweets: 37 | Similarity [[0.76236457]] \n",
      "\n",
      "\n",
      "Title = For your sexual health, use a #condom consistently and correctly to prevent unintended 🤰, #HIV and other sexually transmitted infections \n",
      "\n",
      "#SelfCare Month https://t.co/dWIWw9bJo8| Retweets: 121 | Similarity [[0.76175594]] \n",
      "\n",
      "\n",
      "Title = #COVID19 has shown how health emergencies and disasters affect entire communities – especially those with weak health systems, and vulnerable populations like migrants, indigenous peoples, and those living in fragile humanitarian conditions. https://t.co/jpUQpnu0V1| Retweets: 33 | Similarity [[0.7608213]] \n",
      "\n",
      "\n",
      "Title = Health is a human right. \n",
      "Everyone, everywhere deserves access to quality essential health services.\n",
      "You can show your support for #HealthForAll by participating in Universal Health Coverage on 12.12.21. \n",
      "Get ready and learn more: https://t.co/iGkmFYqFWe| Retweets: 18 | Similarity [[0.7563777]] \n",
      "\n",
      "\n",
      "Title = @DrTedros @WHOEMRO \"Education is essential for protecting and promoting health in all countries, both in terms of health literacy, and for building the health workforce\"-@DrTedros #Afghanistan https://t.co/c3gFvo2cga| Retweets: 25 | Similarity [[0.7552443]] \n",
      "\n",
      "\n"
     ]
    }
   ],
   "source": [
    "queryTest(\"Food that affect human health\")"
   ]
  },
  {
   "cell_type": "code",
   "execution_count": null,
   "metadata": {
    "colab": {
     "base_uri": "https://localhost:8080/"
    },
    "id": "jYuOvcLYwN0P",
    "outputId": "cb7107c7-c807-42bd-cbda-a3629821d235"
   },
   "outputs": [
    {
     "name": "stdout",
     "output_type": "stream",
     "text": [
      "\n",
      "======================\n",
      "Sample of 20 results out of 2384 for the searched query:\n",
      "\n",
      "Title = @Olympics @DrTedros @Tokyo2020 @Paralympics @g20org @ACTAccelerator \"Every day, the choices we make as individuals can be the difference between life and death, like staying at home, keeping your distance from others, wearing a mask, opening a window and cleaning your hands\"-@DrTedros #Tokyo2020 #AGoal4All https://t.co/DIaj2o4M9u| Retweets: 22 | Similarity [[0.6918276]] \n",
      "\n",
      "\n",
      "Title = Hospitals can support mothers to breastfeed by:\n",
      "✅ letting mothers and babies stay together day and night\n",
      "✅ making sure that mothers of sick babies can stay near their babies.\n",
      "\n",
      "Support #breastfeeding mothers! \n",
      "🤱🏻\n",
      "🤱🏼\n",
      "🤱🏽\n",
      "🤱🏾\n",
      "🤱🏿\n",
      "#WorldBreastfeedingWeek https://t.co/CsfHK6RMDY| Retweets: 55 | Similarity [[0.6884181]] \n",
      "\n",
      "\n",
      "Title = If you are experiencing violence at home during and need to leave in a hurry:\n",
      "🏘️ Identify a friend, neighbour, relative or shelter you can go to\n",
      "🔀 Plan how to get there\n",
      "🎒 Keep ready essential personal items to take with you\n",
      "\n",
      "#ENDviolence https://t.co/Qqs6MHoEh7| Retweets: 363 | Similarity [[0.66229147]] \n",
      "\n",
      "\n",
      "Title = If you are experiencing violence at home during #COVID19 and need to leave in a hurry:\n",
      "🏘️ Identify a friend, neighbor, relative or shelter you can go to\n",
      "🔀 Plan how to get there\n",
      "🎒 Keep ready essential personal items to take with you https://t.co/aiDOzxx77z| Retweets: 102 | Similarity [[0.6598627]] \n",
      "\n",
      "\n",
      "Title = Join our upcoming webinar: \n",
      "\n",
      "\"Home based &amp; Community care models for mild &amp; moderate #COVID19\"\n",
      "\n",
      "🗓️ 4 August 2021\n",
      "🕜 1.30pm - 4PM CEST\n",
      "\n",
      "🖋️ Register now 👉https://t.co/y6It6nDTs8 https://t.co/sQhqBI7LX6| Retweets: 46 | Similarity [[0.64402103]] \n",
      "\n",
      "\n",
      "Title = 🧡📙 Remember Ario – the kind, orange creature with a unicorn-like horn? \n",
      "He’s back, this time with a new friend, Tiger. \n",
      "Both Ario and Tiger are here to help you stay hopeful and well, even after months of living with the #COVID19 https://t.co/JiURHzrEDP https://t.co/KPcSjJ40Av| Retweets: 182 | Similarity [[0.64017195]] \n",
      "\n",
      "\n",
      "Title = It's #WorldBreastfeedingWeek!\n",
      "Employers are encouraged to work with governments to support #breastfeeding employees to 🤱🏾: offer at least 18 weeks of paid maternity leave, preferably six months; plus paid paternity leave. https://t.co/IoD48UXAaJ| Retweets: 63 | Similarity [[0.6381531]] \n",
      "\n",
      "\n",
      "Title = In the last 5⃣ years, more people gained access to\n",
      "\n",
      "❏ safe drinking water at home \n",
      "❏ basic handwashing facilities\n",
      "❏ safe sanitation services\n",
      "\n",
      "⚠️ This progress has been uneven, with the most vulnerable populations falling farthest behind.\n",
      "\n",
      "More info 👉https://t.co/fabiKKAWiC https://t.co/2d6DzHh1dp| Retweets: 37 | Similarity [[0.6285203]] \n",
      "\n",
      "\n",
      "Title = What steps should a school take to keep students and staff safe from #COVID19? What about vaccination? How can families and communities keep themselves safe as schools reopen? Dr @mvankerkhove explains in #ScienceIn5 this week ⬇️ https://t.co/QjVo4rXCkb| Retweets: 134 | Similarity [[0.6168617]] \n",
      "\n",
      "\n",
      "Title = #HealthWorkers can support mothers to breastfeed by helping them to put their baby to the breast right away and encouraging skin-to-skin contact between mother and baby soon after birth.\n",
      "\n",
      "#Breastfeeding saves lives! \n",
      "🤱🏻\n",
      "🤱🏼\n",
      "🤱🏽\n",
      "🤱🏾\n",
      "🤱🏿\n",
      "#WorldBreastfeedingWeek https://t.co/GrxXilyhh1| Retweets: 88 | Similarity [[0.60990113]] \n",
      "\n",
      "\n",
      "Title = RT @WHOPhilippines: Meet Ario and Tiger, your new buddies who are here to help you stay hopeful and well, even after months of living with…| Retweets: 53 | Similarity [[0.6088747]] \n",
      "\n",
      "\n",
      "Title = For more information on #mentalhealth , please visit 👇https://t.co/n3Iaz7WUVf| Retweets: 20 | Similarity [[0.6046135]] \n",
      "\n",
      "\n",
      "Title = @Olympics @DrTedros \"Each of these measures can be the difference between life and death, in every situation: \n",
      "-Going to work\n",
      "-Going shopping\n",
      "-A small gathering of friends\n",
      "-A conference\n",
      "-A concert\n",
      "and the Olympic Games\"-@DrTedros \n",
      "#Tokyo2020 #AGoal4All\n",
      "https://t.co/9qb4LNwTGM| Retweets: 29 | Similarity [[0.60433227]] \n",
      "\n",
      "\n",
      "Title = The summer holidays are a chance for you &amp; your kids to stay healthy and #BeActive together! \n",
      "\n",
      "Let’s take a 20-minute break &amp; do something your kids choose – get creative; play games; dance to a song they pick out! \n",
      " \n",
      "#SelfCare Month https://t.co/bjqM0Fdiec| Retweets: 73 | Similarity [[0.60276645]] \n",
      "\n",
      "\n",
      "Title = Learn how you can stay safe from #COVID19 when going grocery shopping 🛒 🍉🍏🥦🌽 .\n",
      "\n",
      "✅ Know your risk. Lower your risk.| Retweets: 132 | Similarity [[0.6015137]] \n",
      "\n",
      "\n",
      "Title = LIVE with @DrTedros: Ending the #COVID19 pandemic: road to an inclusive recovery. #VaccinEquity https://t.co/q9x4v3ixBl| Retweets: 123 | Similarity [[0.5928256]] \n",
      "\n",
      "\n",
      "Title = To watch the next panel on Tackling the noncommunicable diseases and mental health crises for healthier Small Island Developing States, visit our website: https://t.co/WPuHzycCfM #BeatNCDs| Retweets: 17 | Similarity [[0.5927553]] \n",
      "\n",
      "\n",
      "Title = RT @DrTedros: Happy #SwissNationalDay to all the citizens of 🇨🇭, including my @WHO colleagues. We are proud to call #Switzerland🇨🇭 home!| Retweets: 82 | Similarity [[0.58429337]] \n",
      "\n",
      "\n",
      "Title = @DrTedros \"It is definitely worse in places that have very few vaccines but the #COVID19 pandemic is not over anywhere. The current collective strategy reminds me of a fire fighting team taking on a forest blaze\"-@DrTedros https://t.co/qFijG1cZj0| Retweets: 34 | Similarity [[0.58381045]] \n",
      "\n",
      "\n",
      "Title = Toluse, 🇳🇬, was very sociable and outgoing. The #COVID19 pandemic took that away and he started questioning the point of life. Access to #mentalhealth care helped him to overcome clinical #depression. Watch his story.\n",
      "\n",
      " #WorldMentalHealthDay https://t.co/VnttwrG20O| Retweets: 31 | Similarity [[0.58164066]] \n",
      "\n",
      "\n"
     ]
    }
   ],
   "source": [
    "queryTest(\"Stay at home\")"
   ]
  }
 ],
 "metadata": {
  "colab": {
   "collapsed_sections": [],
   "name": "Search_Engine_From_Scratch.ipynb",
   "provenance": []
  },
  "kernelspec": {
   "display_name": "Python 3 (ipykernel)",
   "language": "python",
   "name": "python3"
  },
  "language_info": {
   "codemirror_mode": {
    "name": "ipython",
    "version": 3
   },
   "file_extension": ".py",
   "mimetype": "text/x-python",
   "name": "python",
   "nbconvert_exporter": "python",
   "pygments_lexer": "ipython3",
   "version": "3.9.5"
  }
 },
 "nbformat": 4,
 "nbformat_minor": 1
}
